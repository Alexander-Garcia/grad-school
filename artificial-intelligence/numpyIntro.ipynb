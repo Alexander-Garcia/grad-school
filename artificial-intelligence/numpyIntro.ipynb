{
  "nbformat": 4,
  "nbformat_minor": 0,
  "metadata": {
    "colab": {
      "provenance": []
    },
    "kernelspec": {
      "name": "python3",
      "display_name": "Python 3"
    },
    "language_info": {
      "name": "python"
    }
  },
  "cells": [
    {
      "cell_type": "code",
      "execution_count": 2,
      "metadata": {
        "id": "_Oy2cizBM9Ko"
      },
      "outputs": [],
      "source": [
        "import numpy as np"
      ]
    },
    {
      "cell_type": "markdown",
      "source": [
        "# Numpy\n",
        "\n",
        "\n",
        "*   Numpy array is a **grid of values**, **same type**, index by a **tuple of nonnegative integers**\n",
        "*   Only supports numeric data types np.int8, np.int32, np.float32, np.half(float 16), etc..<br>\n",
        "* Number of dimensions is **rank** of array.\n",
        "  - array of 2x3x4 has **rank 3**\n",
        "* Shape of an array is a **tuple of integers** giving the **size** of the array along each dimension\n",
        "\n",
        "## Caution!\n",
        "* Python arrays and Numpy arrays are different objects!\n",
        "  - type only works with Python arrays, *shape* for numpy"
      ],
      "metadata": {
        "id": "Ov0YWoqkOhPR"
      }
    },
    {
      "cell_type": "code",
      "source": [
        "a = np.array([[1, 2, 3], [2, 3, 4]])\n",
        "print(type(a), a.shape, a[0][0])\n",
        "print(a)"
      ],
      "metadata": {
        "colab": {
          "base_uri": "https://localhost:8080/"
        },
        "id": "82kgt-vjPTaf",
        "outputId": "feadc6f2-ef79-43ec-a88e-3a4906b762ff"
      },
      "execution_count": 8,
      "outputs": [
        {
          "output_type": "stream",
          "name": "stdout",
          "text": [
            "<class 'numpy.ndarray'> (2, 3) 1\n",
            "[[1 2 3]\n",
            " [2 3 4]]\n"
          ]
        }
      ]
    },
    {
      "cell_type": "code",
      "source": [
        "# Shape is your hammer. Good tool to debug np array\n",
        "print(a.shape)"
      ],
      "metadata": {
        "colab": {
          "base_uri": "https://localhost:8080/"
        },
        "id": "ATgb9RN8RsDO",
        "outputId": "d099332d-a51f-4e78-8209-de99cc26cb62"
      },
      "execution_count": 9,
      "outputs": [
        {
          "output_type": "stream",
          "name": "stdout",
          "text": [
            "(2, 3)\n"
          ]
        }
      ]
    },
    {
      "cell_type": "code",
      "source": [
        "a = np.zeros((2,2))\n",
        "print(a)"
      ],
      "metadata": {
        "colab": {
          "base_uri": "https://localhost:8080/"
        },
        "id": "SxLRCUjtStHh",
        "outputId": "16d13a9f-8ce3-4b05-8a1b-e99859e20a84"
      },
      "execution_count": 10,
      "outputs": [
        {
          "output_type": "stream",
          "name": "stdout",
          "text": [
            "[[0. 0.]\n",
            " [0. 0.]]\n"
          ]
        }
      ]
    },
    {
      "cell_type": "code",
      "source": [
        "b = np.ones((1,2,5,6,7))\n",
        "print(b.shape)"
      ],
      "metadata": {
        "colab": {
          "base_uri": "https://localhost:8080/"
        },
        "id": "7insq8YFQG5_",
        "outputId": "a321b8a4-1359-459f-fddb-3a8fe73e1501"
      },
      "execution_count": 3,
      "outputs": [
        {
          "output_type": "stream",
          "name": "stdout",
          "text": [
            "(1, 2, 5, 6, 7)\n"
          ]
        }
      ]
    },
    {
      "cell_type": "code",
      "source": [
        "c = np.full((2,2), 7)\n",
        "print(c)"
      ],
      "metadata": {
        "colab": {
          "base_uri": "https://localhost:8080/"
        },
        "id": "ZGzEsspDQX53",
        "outputId": "e4abaecf-c1d1-4846-9952-9dfb9e1d053b"
      },
      "execution_count": 4,
      "outputs": [
        {
          "output_type": "stream",
          "name": "stdout",
          "text": [
            "[[7 7]\n",
            " [7 7]]\n"
          ]
        }
      ]
    },
    {
      "cell_type": "code",
      "source": [
        "d = np.eye(3)\n",
        "print(d)"
      ],
      "metadata": {
        "colab": {
          "base_uri": "https://localhost:8080/"
        },
        "id": "tDbeV0XLQa88",
        "outputId": "cc8330d9-e676-4214-b64b-16547326dfcb"
      },
      "execution_count": 5,
      "outputs": [
        {
          "output_type": "stream",
          "name": "stdout",
          "text": [
            "[[1. 0. 0.]\n",
            " [0. 1. 0.]\n",
            " [0. 0. 1.]]\n"
          ]
        }
      ]
    },
    {
      "cell_type": "code",
      "source": [
        "e = np.random.random((2,2)) * 100 # create an array filled with random values\n",
        "print(e)"
      ],
      "metadata": {
        "colab": {
          "base_uri": "https://localhost:8080/"
        },
        "id": "-X167MShQdMF",
        "outputId": "e5019ad8-abc5-4bb9-8be8-3d30f966aa6d"
      },
      "execution_count": 6,
      "outputs": [
        {
          "output_type": "stream",
          "name": "stdout",
          "text": [
            "[[55.79767934 17.32041205]\n",
            " [96.71761295 88.50905637]]\n"
          ]
        }
      ]
    },
    {
      "cell_type": "markdown",
      "source": [
        "# Arrays\n",
        "* Slicing: similar to python lists, numpy arrays can be sliced\n",
        "* since arrays may be multidimensional, you must specify a slice for each dimension of the array\n",
        "* Example matrix of **shape** (3,4) (rows by 4 columns) and **rank 2**<br>"
      ],
      "metadata": {
        "id": "goCdqy1KQ343"
      }
    },
    {
      "cell_type": "code",
      "source": [
        "a = np.array([[1,2,3,4], [5,6,7,8], [9,10,11,12]])\n",
        "# use slicing to pull out the subarray consisting of the first 2 rows and columns 1 and 2\n",
        "b = a[:2, 1:3]\n",
        "print(b)"
      ],
      "metadata": {
        "colab": {
          "base_uri": "https://localhost:8080/"
        },
        "id": "668-fd9zQpJr",
        "outputId": "98ff9a83-88fe-4470-d008-c39598a09c4f"
      },
      "execution_count": 11,
      "outputs": [
        {
          "output_type": "stream",
          "name": "stdout",
          "text": [
            "[[2 3]\n",
            " [6 7]]\n"
          ]
        }
      ]
    },
    {
      "cell_type": "markdown",
      "source": [
        "A **slice of an array is a view into the same data**, so modifying it will modify the original array"
      ],
      "metadata": {
        "id": "pxrsIBfzm767"
      }
    },
    {
      "cell_type": "code",
      "source": [
        "b[0,0] = 77\n",
        "print(a)"
      ],
      "metadata": {
        "colab": {
          "base_uri": "https://localhost:8080/"
        },
        "id": "iwHoO2Z0WQGs",
        "outputId": "699e6b7b-b249-47fe-f367-5dcb9f44be2a"
      },
      "execution_count": 12,
      "outputs": [
        {
          "output_type": "stream",
          "name": "stdout",
          "text": [
            "[[ 1 77  3  4]\n",
            " [ 5  6  7  8]\n",
            " [ 9 10 11 12]]\n"
          ]
        }
      ]
    },
    {
      "cell_type": "code",
      "source": [
        "# How can we make a copy(not reference) of an array\n",
        "c = np.copy(a)\n",
        "c[0,0] = 100\n",
        "print(c) # c has the changes but a does not\n",
        "print(a)"
      ],
      "metadata": {
        "colab": {
          "base_uri": "https://localhost:8080/"
        },
        "id": "eCkLdhBbnGo0",
        "outputId": "45adf37c-fe95-40eb-bf08-27b7f182dd17"
      },
      "execution_count": 14,
      "outputs": [
        {
          "output_type": "stream",
          "name": "stdout",
          "text": [
            "[[100  77   3   4]\n",
            " [  5   6   7   8]\n",
            " [  9  10  11  12]]\n",
            "[[ 1 77  3  4]\n",
            " [ 5  6  7  8]\n",
            " [ 9 10 11 12]]\n"
          ]
        }
      ]
    },
    {
      "cell_type": "code",
      "source": [],
      "metadata": {
        "id": "mPouX63FnZV_"
      },
      "execution_count": null,
      "outputs": []
    }
  ]
}