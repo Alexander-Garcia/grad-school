{
  "nbformat": 4,
  "nbformat_minor": 0,
  "metadata": {
    "colab": {
      "provenance": []
    },
    "kernelspec": {
      "name": "python3",
      "display_name": "Python 3"
    },
    "language_info": {
      "name": "python"
    }
  },
  "cells": [
    {
      "cell_type": "code",
      "execution_count": 2,
      "metadata": {
        "id": "_Oy2cizBM9Ko"
      },
      "outputs": [],
      "source": [
        "import numpy as np"
      ]
    },
    {
      "cell_type": "markdown",
      "source": [
        "# Numpy\n",
        "\n",
        "\n",
        "*   Numpy array is a **grid of values**, **same type**, index by a **tuple of nonnegative integers**\n",
        "*   Only supports numeric data types np.int8, np.int32, np.float32, np.half(float 16), etc..<br>\n",
        "* Number of dimensions is **rank** of array.\n",
        "  - array of 2x3x4 has **rank 3**\n",
        "* Shape of an array is a **tuple of integers** giving the **size** of the array along each dimension\n",
        "\n",
        "## Caution!\n",
        "* Python arrays and Numpy arrays are different objects!\n",
        "  - type only works with Python arrays, *shape* for numpy"
      ],
      "metadata": {
        "id": "Ov0YWoqkOhPR"
      }
    },
    {
      "cell_type": "code",
      "source": [
        "a = np.array([[1, 2, 3], [2, 3, 4]])\n",
        "print(type(a), a.shape, a[0][0])\n",
        "print(a)"
      ],
      "metadata": {
        "colab": {
          "base_uri": "https://localhost:8080/",
          "height": 0
        },
        "id": "82kgt-vjPTaf",
        "outputId": "6e2f3d92-57f8-4c41-e3a3-01d98d685c31"
      },
      "execution_count": 3,
      "outputs": [
        {
          "output_type": "stream",
          "name": "stdout",
          "text": [
            "<class 'numpy.ndarray'> (2, 3) 1\n",
            "[[1 2 3]\n",
            " [2 3 4]]\n"
          ]
        }
      ]
    },
    {
      "cell_type": "code",
      "source": [
        "# Shape is your hammer. Good tool to debug np array\n",
        "print(a.shape)"
      ],
      "metadata": {
        "colab": {
          "base_uri": "https://localhost:8080/",
          "height": 0
        },
        "id": "ATgb9RN8RsDO",
        "outputId": "d099332d-a51f-4e78-8209-de99cc26cb62"
      },
      "execution_count": 9,
      "outputs": [
        {
          "output_type": "stream",
          "name": "stdout",
          "text": [
            "(2, 3)\n"
          ]
        }
      ]
    },
    {
      "cell_type": "code",
      "source": [
        "a = np.zeros((2,2))\n",
        "print(a)"
      ],
      "metadata": {
        "colab": {
          "base_uri": "https://localhost:8080/",
          "height": 0
        },
        "id": "SxLRCUjtStHh",
        "outputId": "16d13a9f-8ce3-4b05-8a1b-e99859e20a84"
      },
      "execution_count": 10,
      "outputs": [
        {
          "output_type": "stream",
          "name": "stdout",
          "text": [
            "[[0. 0.]\n",
            " [0. 0.]]\n"
          ]
        }
      ]
    },
    {
      "cell_type": "code",
      "source": [
        "b = np.ones((1,2,5,6,7))\n",
        "print(b.shape)"
      ],
      "metadata": {
        "colab": {
          "base_uri": "https://localhost:8080/",
          "height": 0
        },
        "id": "7insq8YFQG5_",
        "outputId": "a321b8a4-1359-459f-fddb-3a8fe73e1501"
      },
      "execution_count": 3,
      "outputs": [
        {
          "output_type": "stream",
          "name": "stdout",
          "text": [
            "(1, 2, 5, 6, 7)\n"
          ]
        }
      ]
    },
    {
      "cell_type": "code",
      "source": [
        "c = np.full((2,2), 7)\n",
        "print(c)"
      ],
      "metadata": {
        "colab": {
          "base_uri": "https://localhost:8080/",
          "height": 0
        },
        "id": "ZGzEsspDQX53",
        "outputId": "e4abaecf-c1d1-4846-9952-9dfb9e1d053b"
      },
      "execution_count": 4,
      "outputs": [
        {
          "output_type": "stream",
          "name": "stdout",
          "text": [
            "[[7 7]\n",
            " [7 7]]\n"
          ]
        }
      ]
    },
    {
      "cell_type": "code",
      "source": [
        "d = np.eye(3)\n",
        "print(d)"
      ],
      "metadata": {
        "colab": {
          "base_uri": "https://localhost:8080/",
          "height": 0
        },
        "id": "tDbeV0XLQa88",
        "outputId": "cc8330d9-e676-4214-b64b-16547326dfcb"
      },
      "execution_count": 5,
      "outputs": [
        {
          "output_type": "stream",
          "name": "stdout",
          "text": [
            "[[1. 0. 0.]\n",
            " [0. 1. 0.]\n",
            " [0. 0. 1.]]\n"
          ]
        }
      ]
    },
    {
      "cell_type": "code",
      "source": [
        "e = np.random.random((2,2)) * 100 # create an array filled with random values\n",
        "print(e)"
      ],
      "metadata": {
        "colab": {
          "base_uri": "https://localhost:8080/",
          "height": 0
        },
        "id": "-X167MShQdMF",
        "outputId": "e5019ad8-abc5-4bb9-8be8-3d30f966aa6d"
      },
      "execution_count": 6,
      "outputs": [
        {
          "output_type": "stream",
          "name": "stdout",
          "text": [
            "[[55.79767934 17.32041205]\n",
            " [96.71761295 88.50905637]]\n"
          ]
        }
      ]
    },
    {
      "cell_type": "markdown",
      "source": [
        "# Arrays\n",
        "* Slicing: similar to python lists, numpy arrays can be sliced\n",
        "* since arrays may be multidimensional, you must specify a slice for each dimension of the array\n",
        "* Example matrix of **shape** (3,4) (rows by 4 columns) and **rank 2**<br>"
      ],
      "metadata": {
        "id": "goCdqy1KQ343"
      }
    },
    {
      "cell_type": "code",
      "source": [
        "a = np.array([[1,2,3,4], [5,6,7,8], [9,10,11,12]])\n",
        "# use slicing to pull out the subarray consisting of the first 2 rows and columns 1 and 2\n",
        "b = a[:2, 1:3]\n",
        "print(b)"
      ],
      "metadata": {
        "colab": {
          "base_uri": "https://localhost:8080/",
          "height": 0
        },
        "id": "668-fd9zQpJr",
        "outputId": "944a4b23-538c-4a3d-c80b-24202516f15a"
      },
      "execution_count": 5,
      "outputs": [
        {
          "output_type": "stream",
          "name": "stdout",
          "text": [
            "[[2 3]\n",
            " [6 7]]\n"
          ]
        }
      ]
    },
    {
      "cell_type": "markdown",
      "source": [
        "A **slice of an array is a view into the same data**, so modifying it will modify the original array"
      ],
      "metadata": {
        "id": "pxrsIBfzm767"
      }
    },
    {
      "cell_type": "code",
      "source": [
        "b[0,0] = 77\n",
        "print(a)"
      ],
      "metadata": {
        "colab": {
          "base_uri": "https://localhost:8080/",
          "height": 0
        },
        "id": "iwHoO2Z0WQGs",
        "outputId": "699e6b7b-b249-47fe-f367-5dcb9f44be2a"
      },
      "execution_count": 12,
      "outputs": [
        {
          "output_type": "stream",
          "name": "stdout",
          "text": [
            "[[ 1 77  3  4]\n",
            " [ 5  6  7  8]\n",
            " [ 9 10 11 12]]\n"
          ]
        }
      ]
    },
    {
      "cell_type": "code",
      "source": [
        "# How can we make a copy(not reference) of an array\n",
        "c = np.copy(a)\n",
        "c[0,0] = 100\n",
        "print(c) # c has the changes but a does not\n",
        "print(a)"
      ],
      "metadata": {
        "colab": {
          "base_uri": "https://localhost:8080/",
          "height": 0
        },
        "id": "eCkLdhBbnGo0",
        "outputId": "dd6554b3-d39b-4b5e-9683-ee0d6d58fb42"
      },
      "execution_count": 4,
      "outputs": [
        {
          "output_type": "stream",
          "name": "stdout",
          "text": [
            "[[100   2   3]\n",
            " [  2   3   4]]\n",
            "[[1 2 3]\n",
            " [2 3 4]]\n"
          ]
        }
      ]
    },
    {
      "cell_type": "code",
      "source": [
        "# mix integer indexing with slice indexing\n",
        "row_r1 = a[1, :] # Rank 1 view of the second row of a\n",
        "row_r2 = a[1:2, :] # Rank 2 view of the second row of a\n",
        "row_r3 = a[[1], :] # Rank 2 view of the second row of a\n",
        "print(row_r1, row_r1.shape)\n",
        "print(row_r2, row_r2.shape)\n",
        "print(row_r3, row_r3.shape)"
      ],
      "metadata": {
        "colab": {
          "base_uri": "https://localhost:8080/",
          "height": 0
        },
        "id": "mPouX63FnZV_",
        "outputId": "4dafc6e5-f214-44e0-d904-d09a5ebcf50f"
      },
      "execution_count": 6,
      "outputs": [
        {
          "output_type": "stream",
          "name": "stdout",
          "text": [
            "[5 6 7 8] (4,)\n",
            "[[5 6 7 8]] (1, 4)\n",
            "[[5 6 7 8]] (1, 4)\n"
          ]
        }
      ]
    },
    {
      "cell_type": "markdown",
      "source": [
        "## Integer array indexing\n",
        "- When you index into numpy arrays using slicing, resulting array view will always be a subarray of original array.\n",
        "- In contrast, integer array indexing allows you to construct arbitrary arrays using the data from another array."
      ],
      "metadata": {
        "id": "ep7HETtE8UOP"
      }
    },
    {
      "cell_type": "code",
      "source": [
        "# we can make the same distinction when accessing columns of an array:\n",
        "col_r1 = a[:, 1]\n",
        "col_r2 = a[:, 1:2]\n",
        "print(col_r1, col_r1.shape)\n",
        "print(col_r2, col_r2.shape)"
      ],
      "metadata": {
        "colab": {
          "base_uri": "https://localhost:8080/",
          "height": 0
        },
        "id": "-1lx2FeD8BsG",
        "outputId": "abd6e7db-24e4-4dcd-f964-b4b5d5174359"
      },
      "execution_count": 7,
      "outputs": [
        {
          "output_type": "stream",
          "name": "stdout",
          "text": [
            "[2 3] (2,)\n",
            "[[2]\n",
            " [3]] (2, 1)\n"
          ]
        }
      ]
    },
    {
      "cell_type": "code",
      "source": [
        "# an example of integer array indexing\n",
        "# returned array will have shape (2,)\n",
        "print (' => ')\n",
        "print(a[[0,1], [0, 1]]) # first argument is rows and second is columns (r, c) -> (0,0) and 1, 1"
      ],
      "metadata": {
        "colab": {
          "base_uri": "https://localhost:8080/",
          "height": 0
        },
        "id": "Xk7Z_S5W8Nrj",
        "outputId": "7c0ab8f4-81a4-4881-e373-479713979070"
      },
      "execution_count": 6,
      "outputs": [
        {
          "output_type": "stream",
          "name": "stdout",
          "text": [
            " => \n",
            "[1 3]\n"
          ]
        }
      ]
    },
    {
      "cell_type": "code",
      "source": [
        "a = np.array([[1,2], [3,4], [5,6]])"
      ],
      "metadata": {
        "id": "pvM9VrbPIrfT"
      },
      "execution_count": 9,
      "outputs": []
    },
    {
      "cell_type": "code",
      "source": [
        "# returned array will have shape(3,)\n",
        "print( \" => \")\n",
        "print( a[[0,1,2], [0,1,0]])"
      ],
      "metadata": {
        "colab": {
          "base_uri": "https://localhost:8080/",
          "height": 0
        },
        "id": "PYbNp1aP7Xis",
        "outputId": "fa150984-8c2a-4086-b9ea-7ab8801dd2e9"
      },
      "execution_count": 10,
      "outputs": [
        {
          "output_type": "stream",
          "name": "stdout",
          "text": [
            " => \n",
            "[1 4 5]\n"
          ]
        }
      ]
    },
    {
      "cell_type": "code",
      "source": [
        "# above example is equiv to this\n",
        "print(np.array([a[0,0], a[1,1], a[2,0]]))"
      ],
      "metadata": {
        "colab": {
          "base_uri": "https://localhost:8080/",
          "height": 0
        },
        "id": "yvKIuXo8JK23",
        "outputId": "dfdd7165-8d3e-4f69-897a-5c4ec5a96ca3"
      },
      "execution_count": 12,
      "outputs": [
        {
          "output_type": "stream",
          "name": "stdout",
          "text": [
            "[1 4 5]\n"
          ]
        }
      ]
    },
    {
      "cell_type": "code",
      "source": [
        "# when using integer array indexing, you can reuse the same\n",
        "# element from the source array\n",
        "print(a[[0,0], [1,1]])\n",
        "\n",
        "# equivalent to previous integer array indexing example\n",
        "print(np.array([a[0,1], a[0,1]]))"
      ],
      "metadata": {
        "colab": {
          "base_uri": "https://localhost:8080/",
          "height": 0
        },
        "id": "lpxZ9-lrJdsk",
        "outputId": "b7edf456-d5c9-449a-ddd2-aaba7a91fb8b"
      },
      "execution_count": 14,
      "outputs": [
        {
          "output_type": "stream",
          "name": "stdout",
          "text": [
            "[2 2]\n",
            "[2 2]\n"
          ]
        }
      ]
    },
    {
      "cell_type": "markdown",
      "source": [
        "- One useful trick with integer array indexing is **selecting** or mutating **one element** from each row of a matrix"
      ],
      "metadata": {
        "id": "-RHzjUcdKHSB"
      }
    },
    {
      "cell_type": "code",
      "source": [
        "# create a new array from which we will select elements\n",
        "a = np.array([[1,2,3], [4,5,6], [7,8,9], [10,11,12]])\n",
        "print(a)"
      ],
      "metadata": {
        "colab": {
          "base_uri": "https://localhost:8080/",
          "height": 0
        },
        "id": "5cedqDVzJ8v8",
        "outputId": "cda0eac5-1c0f-4fbe-f896-74718c52406b"
      },
      "execution_count": 15,
      "outputs": [
        {
          "output_type": "stream",
          "name": "stdout",
          "text": [
            "[[ 1  2  3]\n",
            " [ 4  5  6]\n",
            " [ 7  8  9]\n",
            " [10 11 12]]\n"
          ]
        }
      ]
    },
    {
      "cell_type": "code",
      "source": [
        "# create an array of indices\n",
        "b = np.array([0,2,0,1])\n",
        "print(b)"
      ],
      "metadata": {
        "colab": {
          "base_uri": "https://localhost:8080/",
          "height": 0
        },
        "id": "Jp61Mja6KY7K",
        "outputId": "0c63ed77-ddfc-4ca3-a295-337f6ed3a094"
      },
      "execution_count": 16,
      "outputs": [
        {
          "output_type": "stream",
          "name": "stdout",
          "text": [
            "[0 2 0 1]\n"
          ]
        }
      ]
    },
    {
      "cell_type": "code",
      "source": [
        "print(np.arange(4))\n",
        "# select one element from each row of a using the indices in b\n",
        "print(a[np.arange(4), b]) # prints [1 6 7 11]"
      ],
      "metadata": {
        "colab": {
          "base_uri": "https://localhost:8080/",
          "height": 0
        },
        "id": "QpV-IvxIKfK6",
        "outputId": "bab04d12-a099-4439-848d-c2ae68eb9652"
      },
      "execution_count": 18,
      "outputs": [
        {
          "output_type": "stream",
          "name": "stdout",
          "text": [
            "[0 1 2 3]\n",
            "[ 1  6  7 11]\n"
          ]
        }
      ]
    },
    {
      "cell_type": "code",
      "source": [
        "# mutate one element from each row of a using the indices in b\n",
        "a[np.arange(4), b] += 10\n",
        "print(a)"
      ],
      "metadata": {
        "colab": {
          "base_uri": "https://localhost:8080/",
          "height": 0
        },
        "id": "rIbWFxOaKy9C",
        "outputId": "378bf0cb-253d-4073-f10c-6c4f37158c60"
      },
      "execution_count": 19,
      "outputs": [
        {
          "output_type": "stream",
          "name": "stdout",
          "text": [
            "[[11  2  3]\n",
            " [ 4  5 16]\n",
            " [17  8  9]\n",
            " [10 21 12]]\n"
          ]
        }
      ]
    },
    {
      "cell_type": "markdown",
      "source": [
        "## Boolean indexing\n",
        "- pick out arbitrary elements of an array\n",
        "- typically used to select elemetns of array that satisfy some condition"
      ],
      "metadata": {
        "id": "zApw6L2SLskT"
      }
    },
    {
      "cell_type": "code",
      "source": [
        "bool_idx = (a > 2)\n",
        "print(bool_idx)"
      ],
      "metadata": {
        "colab": {
          "base_uri": "https://localhost:8080/",
          "height": 0
        },
        "id": "OxOdeRiyLrLJ",
        "outputId": "d9c9d21c-1785-4779-bfc4-1c99d00a18a6"
      },
      "execution_count": 20,
      "outputs": [
        {
          "output_type": "stream",
          "name": "stdout",
          "text": [
            "[[ True False  True]\n",
            " [ True  True  True]\n",
            " [ True  True  True]\n",
            " [ True  True  True]]\n"
          ]
        }
      ]
    },
    {
      "cell_type": "code",
      "source": [
        "# we use boolean array indexing to construct a \"rank 1 array\"\n",
        "# consisting of element of a corresponding to the True values\n",
        "# of bool_idx\n",
        "print(a[bool_idx])"
      ],
      "metadata": {
        "colab": {
          "base_uri": "https://localhost:8080/",
          "height": 0
        },
        "id": "oHM6O-OtL4H2",
        "outputId": "2991fe69-02f7-4d67-a9ae-3cec215dff38"
      },
      "execution_count": 21,
      "outputs": [
        {
          "output_type": "stream",
          "name": "stdout",
          "text": [
            "[11  3  4  5 16 17  8  9 10 21 12]\n"
          ]
        }
      ]
    },
    {
      "cell_type": "code",
      "source": [
        "# can do all of the above in a single conscise statement\n",
        "print(a[a >2])"
      ],
      "metadata": {
        "colab": {
          "base_uri": "https://localhost:8080/",
          "height": 0
        },
        "id": "alt8mZyNMHq7",
        "outputId": "a602c00a-706c-4a54-83bc-5f2b841baf28"
      },
      "execution_count": 22,
      "outputs": [
        {
          "output_type": "stream",
          "name": "stdout",
          "text": [
            "[11  3  4  5 16 17  8  9 10 21 12]\n"
          ]
        }
      ]
    },
    {
      "cell_type": "markdown",
      "source": [
        "## Datatypes\n",
        "- Every numpy array is a grid of elemetns of the **same type**\n",
        "- Provides a large set of numeric datatypes that you can use to construct arrays\n",
        "- Numpy tries to guess a datatype when you create an array\n",
        "  - functions that construct arrays usually also include optional argument to explicitly specify the datatype"
      ],
      "metadata": {
        "id": "3W5NQD_oMN_I"
      }
    },
    {
      "cell_type": "code",
      "source": [
        "x = np.array([1,2])\n",
        "y = np.array([1.0,2.0])\n",
        "z = np.array([1,2], dtype=np.int64)\n",
        "\n",
        "print(x.dtype, y.dtype, z.dtype)"
      ],
      "metadata": {
        "colab": {
          "base_uri": "https://localhost:8080/",
          "height": 0
        },
        "id": "9KtLRDGEMMK3",
        "outputId": "fea047b0-f5ec-4614-df85-fccad7b9376c"
      },
      "execution_count": 23,
      "outputs": [
        {
          "output_type": "stream",
          "name": "stdout",
          "text": [
            "int64 float64 int64\n"
          ]
        }
      ]
    },
    {
      "cell_type": "markdown",
      "source": [
        "## Array math\n",
        "- basic math funcs operate elementwise on arrays\n",
        "- available as both ooperator overloads, and funcs in numpy module"
      ],
      "metadata": {
        "id": "hqGBjeWEMxYW"
      }
    },
    {
      "cell_type": "code",
      "source": [
        "x = np.array([[1,2],[3,4]], dtype=np.float64)\n",
        "y = np.array([[5,6],[7,8]], dtype=np.float64)\n",
        "\n",
        "# elementwise sum; both produce the array\n",
        "print(x + y) # operator overload\n",
        "print(np.add(x,y)) # add available as func"
      ],
      "metadata": {
        "colab": {
          "base_uri": "https://localhost:8080/",
          "height": 0
        },
        "id": "Hn-y4mF3MwOc",
        "outputId": "96dc6f27-6746-4900-85b2-d75d8fa166a8"
      },
      "execution_count": 24,
      "outputs": [
        {
          "output_type": "stream",
          "name": "stdout",
          "text": [
            "[[ 6.  8.]\n",
            " [10. 12.]]\n",
            "[[ 6.  8.]\n",
            " [10. 12.]]\n"
          ]
        }
      ]
    },
    {
      "cell_type": "code",
      "source": [
        "# elementwise difference; both produce the array\n",
        "print(x-y)\n",
        "print(np.subtract(x,y))"
      ],
      "metadata": {
        "colab": {
          "base_uri": "https://localhost:8080/",
          "height": 0
        },
        "id": "b_yvI6pXNXP9",
        "outputId": "3ff4fa5c-506e-488e-d9c9-6fb0edceb943"
      },
      "execution_count": 25,
      "outputs": [
        {
          "output_type": "stream",
          "name": "stdout",
          "text": [
            "[[-4. -4.]\n",
            " [-4. -4.]]\n",
            "[[-4. -4.]\n",
            " [-4. -4.]]\n"
          ]
        }
      ]
    },
    {
      "cell_type": "code",
      "source": [
        "# elementwise product; both produce the array\n",
        "print(x * y)\n",
        "print(np.multiply(x,y))"
      ],
      "metadata": {
        "colab": {
          "base_uri": "https://localhost:8080/",
          "height": 0
        },
        "id": "lpCot9BGNdBp",
        "outputId": "d265c1df-2d4b-4278-c0d9-b05797380eda"
      },
      "execution_count": 26,
      "outputs": [
        {
          "output_type": "stream",
          "name": "stdout",
          "text": [
            "[[ 5. 12.]\n",
            " [21. 32.]]\n",
            "[[ 5. 12.]\n",
            " [21. 32.]]\n"
          ]
        }
      ]
    },
    {
      "cell_type": "code",
      "source": [
        "# elementwise division\n",
        "print(x/y)\n",
        "print(np.divide(x,y))"
      ],
      "metadata": {
        "colab": {
          "base_uri": "https://localhost:8080/",
          "height": 0
        },
        "id": "m41tlzwDNrWG",
        "outputId": "533bd63c-c2c9-420d-b662-aecec27a52c4"
      },
      "execution_count": 28,
      "outputs": [
        {
          "output_type": "stream",
          "name": "stdout",
          "text": [
            "[[0.2        0.33333333]\n",
            " [0.42857143 0.5       ]]\n",
            "[[0.2        0.33333333]\n",
            " [0.42857143 0.5       ]]\n"
          ]
        }
      ]
    },
    {
      "cell_type": "code",
      "source": [
        "# elementwise square root\n",
        "print(np.sqrt(x))"
      ],
      "metadata": {
        "colab": {
          "base_uri": "https://localhost:8080/",
          "height": 0
        },
        "id": "bB6CTaWmN1mt",
        "outputId": "1ef74b2f-b75e-4a74-f862-74331654b491"
      },
      "execution_count": 29,
      "outputs": [
        {
          "output_type": "stream",
          "name": "stdout",
          "text": [
            "[[1.         1.41421356]\n",
            " [1.73205081 2.        ]]\n"
          ]
        }
      ]
    },
    {
      "cell_type": "markdown",
      "source": [
        "## elementwise multiplicatoin vs dot product\n",
        "- `*` is elementwise multiplication, **not matrix multiplication**\n",
        "- use the *dot* function to computer inner products of vectors\n",
        "- *dot* is available both as a func in numpy module and as an instance method of array objects"
      ],
      "metadata": {
        "id": "D1GoLz3DN6pm"
      }
    },
    {
      "cell_type": "code",
      "source": [
        "v = np.array([9,10])\n",
        "w = np.array([11,12])\n",
        "\n",
        "print(v.dot(w))\n",
        "print(np.dot(v,w))"
      ],
      "metadata": {
        "colab": {
          "base_uri": "https://localhost:8080/",
          "height": 0
        },
        "id": "jdDEH50iN5QW",
        "outputId": "7cde6547-b119-4fad-e1af-7efff520aea3"
      },
      "execution_count": 30,
      "outputs": [
        {
          "output_type": "stream",
          "name": "stdout",
          "text": [
            "219\n",
            "219\n"
          ]
        }
      ]
    },
    {
      "cell_type": "code",
      "source": [
        "x = np.array([[1,2], [3,4]])\n",
        "# matrix / vector product; both produce rank 1 array\n",
        "print(x.dot(v))\n",
        "print(np.dot(x, v))"
      ],
      "metadata": {
        "colab": {
          "base_uri": "https://localhost:8080/",
          "height": 0
        },
        "id": "P-06rXHrPKra",
        "outputId": "6383c0cd-3c25-422e-eff6-f7b8245248ac"
      },
      "execution_count": 31,
      "outputs": [
        {
          "output_type": "stream",
          "name": "stdout",
          "text": [
            "[29 67]\n",
            "[29 67]\n"
          ]
        }
      ]
    },
    {
      "cell_type": "code",
      "source": [
        "y = np.array([[5,6], [7,8]])\n",
        "# matrix / matrix product; both produce rank 2 array\n",
        "print(x * y)\n",
        "print(np.dot(x,y))"
      ],
      "metadata": {
        "colab": {
          "base_uri": "https://localhost:8080/",
          "height": 0
        },
        "id": "JjfU572LPcfz",
        "outputId": "277e55b2-ad2d-4646-8e1a-6cd6cea0f0f4"
      },
      "execution_count": 33,
      "outputs": [
        {
          "output_type": "stream",
          "name": "stdout",
          "text": [
            "[[ 5 12]\n",
            " [21 32]]\n",
            "[[19 22]\n",
            " [43 50]]\n"
          ]
        }
      ]
    },
    {
      "cell_type": "code",
      "source": [
        "# Np provides many useful functions for performing computations on arrays; one of the most useful is sum\n",
        "x = np.array([[1,2], [3,4]])\n",
        "print(\"x = \")\n",
        "print(x)\n",
        "print(\"sum = \")\n",
        "print(np.sum(x)) # compute sum of all elements\n",
        "print(\"sum along axis 0 = \")\n",
        "print(np.sum(x, axis=0)) # compute sum of each column\n",
        "print(\"sum along axis 1 =\")\n",
        "print(np.sum(x, axis=1)) # compute sum of each row"
      ],
      "metadata": {
        "colab": {
          "base_uri": "https://localhost:8080/",
          "height": 0
        },
        "id": "Xp3L_goYPuiL",
        "outputId": "f597bcf0-f70f-4c04-83b0-38eab66f8aa1"
      },
      "execution_count": 36,
      "outputs": [
        {
          "output_type": "stream",
          "name": "stdout",
          "text": [
            "x = \n",
            "[[1 2]\n",
            " [3 4]]\n",
            "sum = \n",
            "10\n",
            "sum along axis 0 = \n",
            "[4 6]\n",
            "sum along axis 1 =\n",
            "[3 7]\n"
          ]
        }
      ]
    },
    {
      "cell_type": "markdown",
      "source": [
        "- To transpose a matrix, simply use the T attribute of an array object"
      ],
      "metadata": {
        "id": "0-kelStrQPwB"
      }
    },
    {
      "cell_type": "code",
      "source": [
        "print(x)\n",
        "print(x.T)"
      ],
      "metadata": {
        "colab": {
          "base_uri": "https://localhost:8080/",
          "height": 0
        },
        "id": "_aqPZWP-QM6Q",
        "outputId": "7d329533-d806-47c3-ba19-4ab71a8a71e0"
      },
      "execution_count": 37,
      "outputs": [
        {
          "output_type": "stream",
          "name": "stdout",
          "text": [
            "[[1 2]\n",
            " [3 4]]\n",
            "[[1 3]\n",
            " [2 4]]\n"
          ]
        }
      ]
    },
    {
      "cell_type": "markdown",
      "source": [
        "- Numpy arrays can also be reshaped using `.reshape()`"
      ],
      "metadata": {
        "id": "Um_V_8kaQaNs"
      }
    },
    {
      "cell_type": "code",
      "source": [
        "print(x.shape)\n",
        "\n",
        "y = np.reshape(x, (1,4))\n",
        "print(y.shape)\n",
        "print(y)"
      ],
      "metadata": {
        "colab": {
          "base_uri": "https://localhost:8080/",
          "height": 0
        },
        "id": "sxCpX6OCQZwV",
        "outputId": "adfe4c11-a586-406a-db3d-fb58838deb27"
      },
      "execution_count": 40,
      "outputs": [
        {
          "output_type": "stream",
          "name": "stdout",
          "text": [
            "(2, 2)\n",
            "(1, 4)\n",
            "[[1 2 3 4]]\n"
          ]
        }
      ]
    },
    {
      "cell_type": "markdown",
      "source": [
        "## Broadcasting\n",
        "- powerful mechanism **allows numpy to work with arrays of different shapes** when performing arithmetic operations\n",
        "- Frequently we have a **smaller array and a larger array**, we want to use the **smaller array multiple times to perform some operation on larger array**"
      ],
      "metadata": {
        "id": "Omy82_THRAnA"
      }
    },
    {
      "cell_type": "code",
      "source": [
        "# we will add the vector v to each row of the matrix x,\n",
        "# storing result in matrix y\n",
        "x = np.array([[1,2,3], [4,5,6], [7,8,9], [10,11,12]])\n",
        "v = np.array([1,0,1])\n",
        "y = np.empty_like(x) # create empty matrix with same shape as x\n",
        "print(\"x : \", x)\n",
        "print(\"v : \", v)"
      ],
      "metadata": {
        "colab": {
          "base_uri": "https://localhost:8080/",
          "height": 0
        },
        "id": "ja_yy1OwQ-t4",
        "outputId": "ed82c788-f614-4e2a-ada2-79754c9a121e"
      },
      "execution_count": 42,
      "outputs": [
        {
          "output_type": "stream",
          "name": "stdout",
          "text": [
            "x :  [[ 1  2  3]\n",
            " [ 4  5  6]\n",
            " [ 7  8  9]\n",
            " [10 11 12]]\n",
            "v :  [1 0 1]\n"
          ]
        }
      ]
    },
    {
      "cell_type": "markdown",
      "source": [
        "We would like to add `v` to `x`. Here is naive way of doing it (**method 1**)"
      ],
      "metadata": {
        "id": "5DiRMiXTR1Va"
      }
    },
    {
      "cell_type": "code",
      "source": [
        "for i in range(4):\n",
        "  y[i, :] = x[i, :] + v\n",
        "\n",
        "print(y)"
      ],
      "metadata": {
        "colab": {
          "base_uri": "https://localhost:8080/",
          "height": 0
        },
        "id": "EG78ODQJR0O6",
        "outputId": "b1a2e5e8-1959-4d68-dba5-5a14b28a7a72"
      },
      "execution_count": 43,
      "outputs": [
        {
          "output_type": "stream",
          "name": "stdout",
          "text": [
            "[[ 2  2  4]\n",
            " [ 5  5  7]\n",
            " [ 8  8 10]\n",
            " [11 11 13]]\n"
          ]
        }
      ]
    },
    {
      "cell_type": "markdown",
      "source": [
        "- Above example works however when x is large the explicit for loop can be **very slow**"
      ],
      "metadata": {
        "id": "ORK0ikc7SEv7"
      }
    },
    {
      "cell_type": "code",
      "source": [
        "vv = np.tile(v, (4,1))\n",
        "print(vv)"
      ],
      "metadata": {
        "colab": {
          "base_uri": "https://localhost:8080/",
          "height": 0
        },
        "id": "b8Tl0x3RSD-z",
        "outputId": "125f8479-3e42-437e-c3a9-1a7deff6cfb1"
      },
      "execution_count": 46,
      "outputs": [
        {
          "output_type": "stream",
          "name": "stdout",
          "text": [
            "[[1 0 1]\n",
            " [1 0 1]\n",
            " [1 0 1]\n",
            " [1 0 1]]\n"
          ]
        }
      ]
    },
    {
      "cell_type": "code",
      "source": [
        "y = x + vv # add x and vv elementwise\n",
        "print(y)"
      ],
      "metadata": {
        "colab": {
          "base_uri": "https://localhost:8080/",
          "height": 0
        },
        "id": "1rLJQuSDSYL2",
        "outputId": "b7d76284-b108-463f-a173-2fb542ed2875"
      },
      "execution_count": 47,
      "outputs": [
        {
          "output_type": "stream",
          "name": "stdout",
          "text": [
            "[[ 2  2  4]\n",
            " [ 5  5  7]\n",
            " [ 8  8 10]\n",
            " [11 11 13]]\n"
          ]
        }
      ]
    },
    {
      "cell_type": "markdown",
      "source": [
        "- Numpy broadcasting allows us to perform this computation **without actually creating multiple copies of v**\n",
        "- Consider this verison using **broadcasting** **(method 3)**"
      ],
      "metadata": {
        "id": "Ts0dphDBUJgn"
      }
    },
    {
      "cell_type": "code",
      "source": [
        "# we will add the vector v to each row of the matrix x\n",
        "x = np.array([[1,2,3], [4,5,6], [7,8,9], [10,11,12]])\n",
        "v = np.array([1,0,1])\n",
        "y = x + v # add v to each row of x using broadcasting\n",
        "\n",
        "print(x)\n",
        "print('')\n",
        "print(v)\n",
        "print('')\n",
        "print(y)"
      ],
      "metadata": {
        "colab": {
          "base_uri": "https://localhost:8080/",
          "height": 0
        },
        "id": "th5YYMohSd5t",
        "outputId": "6517f70b-3802-4980-a945-7b783c5d9bc2"
      },
      "execution_count": 50,
      "outputs": [
        {
          "output_type": "stream",
          "name": "stdout",
          "text": [
            "[[ 1  2  3]\n",
            " [ 4  5  6]\n",
            " [ 7  8  9]\n",
            " [10 11 12]]\n",
            "\n",
            "[1 0 1]\n",
            "\n",
            "[[ 2  2  4]\n",
            " [ 5  5  7]\n",
            " [ 8  8 10]\n",
            " [11 11 13]]\n"
          ]
        }
      ]
    },
    {
      "cell_type": "markdown",
      "source": [
        "## Broadcasting\n",
        "- term \"broadcasting\" describe how numpy treats arrays with different shapes during arithmetic operations\n",
        "- smaller array is \"braodcast\" across the larger array so that they have compatible shapes\n",
        "- simplest broadcasting occurs when an array and a scalar value are combined in an operation"
      ],
      "metadata": {
        "id": "aW7Zmp4yU9q_"
      }
    },
    {
      "cell_type": "code",
      "source": [
        "a = np.array([1.0, 2.0, 3.0])\n",
        "b = 2.0\n",
        "print(a*b)"
      ],
      "metadata": {
        "colab": {
          "base_uri": "https://localhost:8080/",
          "height": 0
        },
        "id": "Y7tENxc3U8EO",
        "outputId": "5f70dc2c-97c5-4398-e49a-d6ec92d4292d"
      },
      "execution_count": 51,
      "outputs": [
        {
          "output_type": "stream",
          "name": "stdout",
          "text": [
            "[2. 4. 6.]\n"
          ]
        }
      ]
    },
    {
      "cell_type": "markdown",
      "source": [
        "## Explanation\n",
        "- we can think of scalar b being stretched **during arithmetic operation** in an array with same shape as a\n",
        "- new elements in b are simple copies of original scalar\n",
        "- **stretching analogy is only conceptual**\n",
        "  - NumPy is smart enough to use the original scalar value without actually making copies, so that broadcasting operations are as **memory and computationally efficient** as possible"
      ],
      "metadata": {
        "id": "xXaHsNMEVWvq"
      }
    },
    {
      "cell_type": "code",
      "source": [
        "x = np.arange(4)\n",
        "y = np.ones(5)\n",
        "print(x, x.shape)\n",
        "print(y, y.shape)"
      ],
      "metadata": {
        "colab": {
          "base_uri": "https://localhost:8080/"
        },
        "id": "Yzwg6Pv6VVe2",
        "outputId": "a21df5c1-fb2e-4d31-c0e0-9bff483c1a17"
      },
      "execution_count": 53,
      "outputs": [
        {
          "output_type": "stream",
          "name": "stdout",
          "text": [
            "[0 1 2 3] (4,)\n",
            "[1. 1. 1. 1. 1.] (5,)\n"
          ]
        }
      ]
    },
    {
      "cell_type": "code",
      "source": [
        "# What will be output? Error - trailing dim does not match\n",
        "print((x + y).shape)"
      ],
      "metadata": {
        "colab": {
          "base_uri": "https://localhost:8080/",
          "height": 159
        },
        "id": "I-SxGMQpXl5N",
        "outputId": "f57d22fd-80bf-4de1-f36f-3c070408c420"
      },
      "execution_count": 54,
      "outputs": [
        {
          "output_type": "error",
          "ename": "ValueError",
          "evalue": "operands could not be broadcast together with shapes (4,) (5,) ",
          "traceback": [
            "\u001b[0;31m---------------------------------------------------------------------------\u001b[0m",
            "\u001b[0;31mValueError\u001b[0m                                Traceback (most recent call last)",
            "\u001b[0;32m<ipython-input-54-60680183a253>\u001b[0m in \u001b[0;36m<cell line: 2>\u001b[0;34m()\u001b[0m\n\u001b[1;32m      1\u001b[0m \u001b[0;31m# What will be output? Error\u001b[0m\u001b[0;34m\u001b[0m\u001b[0;34m\u001b[0m\u001b[0m\n\u001b[0;32m----> 2\u001b[0;31m \u001b[0mprint\u001b[0m\u001b[0;34m(\u001b[0m\u001b[0;34m(\u001b[0m\u001b[0mx\u001b[0m \u001b[0;34m+\u001b[0m \u001b[0my\u001b[0m\u001b[0;34m)\u001b[0m\u001b[0;34m.\u001b[0m\u001b[0mshape\u001b[0m\u001b[0;34m)\u001b[0m\u001b[0;34m\u001b[0m\u001b[0;34m\u001b[0m\u001b[0m\n\u001b[0m",
            "\u001b[0;31mValueError\u001b[0m: operands could not be broadcast together with shapes (4,) (5,) "
          ]
        }
      ]
    },
    {
      "cell_type": "code",
      "source": [
        "xx = x.reshape(4,1)\n",
        "print(xx, xx.shape)\n",
        "print(y, y.shape)"
      ],
      "metadata": {
        "colab": {
          "base_uri": "https://localhost:8080/"
        },
        "id": "5E6xJvHRXuFs",
        "outputId": "7d61810c-505f-47ae-8d4b-40e21afbbe0a"
      },
      "execution_count": 55,
      "outputs": [
        {
          "output_type": "stream",
          "name": "stdout",
          "text": [
            "[[0]\n",
            " [1]\n",
            " [2]\n",
            " [3]] (4, 1)\n",
            "[1. 1. 1. 1. 1.] (5,)\n"
          ]
        }
      ]
    },
    {
      "cell_type": "code",
      "source": [
        "# what will be output? (4,5)\n",
        "print((xx + y).shape)"
      ],
      "metadata": {
        "colab": {
          "base_uri": "https://localhost:8080/"
        },
        "id": "g07ZzmGJX6Ec",
        "outputId": "bec4d825-f175-4700-97b0-6f925999a91d"
      },
      "execution_count": 57,
      "outputs": [
        {
          "output_type": "stream",
          "name": "stdout",
          "text": [
            "(4, 5)\n"
          ]
        }
      ]
    },
    {
      "cell_type": "markdown",
      "source": [
        "# Outer Product using Broadcasting\n",
        "- broadcasting provides convenient way of taking the outer product (or any other outer operation) of two arrays\n",
        "- following example shows an **outer product operation** of two 1-d arrays:"
      ],
      "metadata": {
        "id": "flsbG2U5YCAo"
      }
    },
    {
      "cell_type": "code",
      "source": [
        "a = np.array([0.0, 10.0, 20.0, 30.0])\n",
        "b = np.array([1.0, 2.0, 3.0])\n",
        "\n",
        "print(a, a.shape)\n",
        "print(b, b.shape)"
      ],
      "metadata": {
        "colab": {
          "base_uri": "https://localhost:8080/"
        },
        "id": "drYkN9A2X_pl",
        "outputId": "4f5a4390-aeb5-4ba2-b8cd-afcc3a84d955"
      },
      "execution_count": 58,
      "outputs": [
        {
          "output_type": "stream",
          "name": "stdout",
          "text": [
            "[ 0. 10. 20. 30.] (4,)\n",
            "[1. 2. 3.] (3,)\n"
          ]
        }
      ]
    },
    {
      "cell_type": "code",
      "source": [
        "# will produce error due to shapes\n",
        "print( a * b)"
      ],
      "metadata": {
        "colab": {
          "base_uri": "https://localhost:8080/",
          "height": 141
        },
        "id": "GODlK2w-YaAR",
        "outputId": "4f16dd96-06e4-40d2-bf36-15c702a07a30"
      },
      "execution_count": 59,
      "outputs": [
        {
          "output_type": "error",
          "ename": "ValueError",
          "evalue": "operands could not be broadcast together with shapes (4,) (3,) ",
          "traceback": [
            "\u001b[0;31m---------------------------------------------------------------------------\u001b[0m",
            "\u001b[0;31mValueError\u001b[0m                                Traceback (most recent call last)",
            "\u001b[0;32m<ipython-input-59-e61cda911ba5>\u001b[0m in \u001b[0;36m<cell line: 1>\u001b[0;34m()\u001b[0m\n\u001b[0;32m----> 1\u001b[0;31m \u001b[0mprint\u001b[0m\u001b[0;34m(\u001b[0m \u001b[0ma\u001b[0m \u001b[0;34m*\u001b[0m \u001b[0mb\u001b[0m\u001b[0;34m)\u001b[0m\u001b[0;34m\u001b[0m\u001b[0;34m\u001b[0m\u001b[0m\n\u001b[0m",
            "\u001b[0;31mValueError\u001b[0m: operands could not be broadcast together with shapes (4,) (3,) "
          ]
        }
      ]
    },
    {
      "cell_type": "code",
      "source": [
        "# here the newaxis index operator inserts a new axis into a, making it a 2-d 4x1 array\n",
        "print(a * b.reshape(3,1))"
      ],
      "metadata": {
        "colab": {
          "base_uri": "https://localhost:8080/"
        },
        "id": "_Mj-gcD_YtC-",
        "outputId": "958dda01-b8ed-41cb-cf0d-6341dfd354f0"
      },
      "execution_count": 60,
      "outputs": [
        {
          "output_type": "stream",
          "name": "stdout",
          "text": [
            "[[ 0. 10. 20. 30.]\n",
            " [ 0. 20. 40. 60.]\n",
            " [ 0. 30. 60. 90.]]\n"
          ]
        }
      ]
    }
  ]
}