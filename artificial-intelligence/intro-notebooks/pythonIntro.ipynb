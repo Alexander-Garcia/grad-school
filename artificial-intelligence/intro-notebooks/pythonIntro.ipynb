{
  "nbformat": 4,
  "nbformat_minor": 0,
  "metadata": {
    "colab": {
      "provenance": []
    },
    "kernelspec": {
      "name": "python3",
      "display_name": "Python 3"
    },
    "language_info": {
      "name": "python"
    }
  },
  "cells": [
    {
      "cell_type": "code",
      "execution_count": 1,
      "metadata": {
        "colab": {
          "base_uri": "https://localhost:8080/",
          "height": 0
        },
        "id": "dUpug2icnb2E",
        "outputId": "c243943b-23a7-45c6-e95f-6a23fe2f33ff"
      },
      "outputs": [
        {
          "output_type": "stream",
          "name": "stdout",
          "text": [
            "3.10.12\n"
          ]
        }
      ],
      "source": [
        "import platform\n",
        "print(platform.python_version())"
      ]
    },
    {
      "cell_type": "code",
      "source": [
        "x = 3\n",
        "print (x)\n",
        "print(type(x))"
      ],
      "metadata": {
        "colab": {
          "base_uri": "https://localhost:8080/",
          "height": 0
        },
        "id": "zjdQ0Dy1pF7_",
        "outputId": "54b99cee-8d45-4401-b5cb-ab9cd94bb042"
      },
      "execution_count": 1,
      "outputs": [
        {
          "output_type": "stream",
          "name": "stdout",
          "text": [
            "3\n",
            "<class 'int'>\n"
          ]
        }
      ]
    },
    {
      "cell_type": "code",
      "source": [
        "print( x + 1)\n",
        "print( x - 1 )\n",
        "print( x * 2 )\n",
        "print( x ** 2 )"
      ],
      "metadata": {
        "colab": {
          "base_uri": "https://localhost:8080/",
          "height": 0
        },
        "id": "aVtn79L_pK_j",
        "outputId": "ecd39d7c-8e92-4bfc-8b1b-ec4e74d847d7"
      },
      "execution_count": 2,
      "outputs": [
        {
          "output_type": "stream",
          "name": "stdout",
          "text": [
            "4\n",
            "2\n",
            "6\n",
            "9\n"
          ]
        }
      ]
    },
    {
      "cell_type": "code",
      "source": [
        "x += 1\n",
        "print(x)\n",
        "x *= 2\n",
        "print(x)"
      ],
      "metadata": {
        "colab": {
          "base_uri": "https://localhost:8080/",
          "height": 0
        },
        "id": "VcmttTE7pWMC",
        "outputId": "3d3ae7eb-9957-4b6b-8f02-60faa9635606"
      },
      "execution_count": 3,
      "outputs": [
        {
          "output_type": "stream",
          "name": "stdout",
          "text": [
            "4\n",
            "8\n"
          ]
        }
      ]
    },
    {
      "cell_type": "code",
      "source": [
        "x = 100000000000000\n",
        "print(type(x))\n",
        "x = 10.0\n",
        "print(type(x))\n",
        "x = -1.0 + 10.j\n",
        "print(x)"
      ],
      "metadata": {
        "colab": {
          "base_uri": "https://localhost:8080/",
          "height": 0
        },
        "id": "2RhMuuyCpbVF",
        "outputId": "6d0d6f40-61e2-4cb9-bc1e-b3b2b4b54120"
      },
      "execution_count": 5,
      "outputs": [
        {
          "output_type": "stream",
          "name": "stdout",
          "text": [
            "<class 'int'>\n",
            "<class 'float'>\n",
            "(-1+10j)\n"
          ]
        }
      ]
    },
    {
      "cell_type": "code",
      "source": [
        "t, f = True, False\n",
        "print(type(t))"
      ],
      "metadata": {
        "colab": {
          "base_uri": "https://localhost:8080/",
          "height": 0
        },
        "id": "y-USvmrIqEmk",
        "outputId": "b0e319d5-0510-476f-8913-3040f6609af3"
      },
      "execution_count": 6,
      "outputs": [
        {
          "output_type": "stream",
          "name": "stdout",
          "text": [
            "<class 'bool'>\n"
          ]
        }
      ]
    },
    {
      "cell_type": "code",
      "source": [
        "print(t and f)\n",
        "print(t or f)\n",
        "print(not t)\n",
        "print( t != f)"
      ],
      "metadata": {
        "colab": {
          "base_uri": "https://localhost:8080/",
          "height": 0
        },
        "id": "2FiAGu-dqRrz",
        "outputId": "481a628d-2804-41a7-e335-6d39eafab1c3"
      },
      "execution_count": 7,
      "outputs": [
        {
          "output_type": "stream",
          "name": "stdout",
          "text": [
            "False\n",
            "True\n",
            "False\n",
            "True\n"
          ]
        }
      ]
    },
    {
      "cell_type": "code",
      "source": [
        "hello = 'hello' # single quote string\n",
        "world = \"world\" # or double quotes\n",
        "again = \"\"\"Hello\n",
        "          there\"\"\" # even triples. Keeps formatting\n",
        "print(hello, len(hello))\n",
        "print(again)"
      ],
      "metadata": {
        "colab": {
          "base_uri": "https://localhost:8080/",
          "height": 0
        },
        "id": "FjZHjZcIqdPG",
        "outputId": "0f8945aa-adca-472e-8d25-4470dc2420eb"
      },
      "execution_count": 8,
      "outputs": [
        {
          "output_type": "stream",
          "name": "stdout",
          "text": [
            "hello 5\n",
            "Hello\n",
            "          there\n"
          ]
        }
      ]
    },
    {
      "cell_type": "code",
      "source": [
        "hw = hello + ' ' + world # string concat\n",
        "print(hw)"
      ],
      "metadata": {
        "colab": {
          "base_uri": "https://localhost:8080/",
          "height": 0
        },
        "id": "nh2yO7ouqyoR",
        "outputId": "d0081ff0-717d-4ad6-aead-6dd1a2b103d4"
      },
      "execution_count": 9,
      "outputs": [
        {
          "output_type": "stream",
          "name": "stdout",
          "text": [
            "hello world\n"
          ]
        }
      ]
    },
    {
      "cell_type": "code",
      "source": [
        "print('%13s %13s %d' % (hello, world, 12))\n",
        "print(f\"I want to say {hello} to the {world}!\") # nice\n",
        "print(hello + world + str(12))"
      ],
      "metadata": {
        "colab": {
          "base_uri": "https://localhost:8080/",
          "height": 0
        },
        "id": "NITxkEthrDYs",
        "outputId": "269b86e9-39cf-486d-b616-1dee6c680155"
      },
      "execution_count": 10,
      "outputs": [
        {
          "output_type": "stream",
          "name": "stdout",
          "text": [
            "        hello         world 12\n",
            "I want to say hello to the world!\n",
            "helloworld12\n"
          ]
        }
      ]
    },
    {
      "cell_type": "code",
      "source": [
        "s = \"hello\"\n",
        "print(s.capitalize())\n",
        "print(s.upper())\n",
        "print(s.rjust(7))\n",
        "print(s.center(7))\n",
        "print(s.replace('l', '(ell)'))\n",
        "print('  world'.strip())\n",
        "s = \"hello class.    good evening\"\n",
        "cols = s.split()\n",
        "print(cols[0], cols[2])"
      ],
      "metadata": {
        "colab": {
          "base_uri": "https://localhost:8080/",
          "height": 0
        },
        "id": "NfUQc5Wprmcn",
        "outputId": "f093f0f1-b471-4656-8136-3d4f9bf5f003"
      },
      "execution_count": 13,
      "outputs": [
        {
          "output_type": "stream",
          "name": "stdout",
          "text": [
            "Hello\n",
            "HELLO\n",
            "  hello\n",
            " hello \n",
            "he(ell)(ell)o\n",
            "world\n",
            "hello good\n"
          ]
        }
      ]
    },
    {
      "cell_type": "code",
      "source": [
        "xs = [3, 1, 1, 2] # create list\n",
        "print(xs, xs[2])\n",
        "print(xs[-1]) # Negative indices count from end of list\n",
        "print(xs[-2])"
      ],
      "metadata": {
        "colab": {
          "base_uri": "https://localhost:8080/",
          "height": 0
        },
        "id": "O1au4BPdsOg8",
        "outputId": "5c420947-c972-4c47-ed45-aed638f01d63"
      },
      "execution_count": 14,
      "outputs": [
        {
          "output_type": "stream",
          "name": "stdout",
          "text": [
            "[3, 1, 1, 2] 1\n",
            "2\n",
            "1\n"
          ]
        }
      ]
    },
    {
      "cell_type": "code",
      "source": [
        "xs[2] = 'foo'\n",
        "print(xs)"
      ],
      "metadata": {
        "colab": {
          "base_uri": "https://localhost:8080/",
          "height": 0
        },
        "id": "6dx1RPKfsaxX",
        "outputId": "7ce9d48a-2243-4be3-c933-d0960b299e9b"
      },
      "execution_count": 15,
      "outputs": [
        {
          "output_type": "stream",
          "name": "stdout",
          "text": [
            "[3, 1, 'foo', 2]\n"
          ]
        }
      ]
    },
    {
      "cell_type": "code",
      "source": [
        "xs.append('bar')\n",
        "print(xs)"
      ],
      "metadata": {
        "colab": {
          "base_uri": "https://localhost:8080/",
          "height": 0
        },
        "id": "rcwAR_KNsetE",
        "outputId": "a0c7e81e-2a47-4de9-a82b-6b53c8482287"
      },
      "execution_count": 16,
      "outputs": [
        {
          "output_type": "stream",
          "name": "stdout",
          "text": [
            "[3, 1, 'foo', 2, 'bar']\n"
          ]
        }
      ]
    },
    {
      "cell_type": "code",
      "source": [
        "x = xs.pop()\n",
        "print(x, xs)"
      ],
      "metadata": {
        "colab": {
          "base_uri": "https://localhost:8080/",
          "height": 0
        },
        "id": "Hbu5AosisiOJ",
        "outputId": "cbcbebae-c6f7-4124-9f63-6f35d6726d98"
      },
      "execution_count": 17,
      "outputs": [
        {
          "output_type": "stream",
          "name": "stdout",
          "text": [
            "bar [3, 1, 'foo', 2]\n"
          ]
        }
      ]
    },
    {
      "cell_type": "code",
      "source": [
        "xs = [3, 1, 5, 1, 3, 2]\n",
        "xs2 = [10, 11]\n",
        "xs.append(xs2)\n",
        "print(xs)"
      ],
      "metadata": {
        "colab": {
          "base_uri": "https://localhost:8080/",
          "height": 0
        },
        "id": "bbAi8eZmsuxd",
        "outputId": "b45e9916-bd06-4037-e134-8b45c0b08652"
      },
      "execution_count": 18,
      "outputs": [
        {
          "output_type": "stream",
          "name": "stdout",
          "text": [
            "[3, 1, 5, 1, 3, 2, [10, 11]]\n"
          ]
        }
      ]
    },
    {
      "cell_type": "code",
      "source": [
        "xs_another = [100, 1000, 200]\n",
        "xs.extend(xs_another) # merges lists\n",
        "print(xs)"
      ],
      "metadata": {
        "colab": {
          "base_uri": "https://localhost:8080/",
          "height": 0
        },
        "id": "nW_apIS0s3Cy",
        "outputId": "eefd2521-ad11-44e4-b4f1-8b3b7c3f8bd3"
      },
      "execution_count": 19,
      "outputs": [
        {
          "output_type": "stream",
          "name": "stdout",
          "text": [
            "[3, 1, 5, 1, 3, 2, [10, 11], 100, 1000, 200]\n"
          ]
        }
      ]
    },
    {
      "cell_type": "code",
      "source": [
        "nums = range(5)\n",
        "print(nums)\n",
        "print(type(nums))"
      ],
      "metadata": {
        "colab": {
          "base_uri": "https://localhost:8080/",
          "height": 0
        },
        "id": "kGRc1_I_tGp0",
        "outputId": "5bf12c5c-3327-4fe3-b0fa-ecfee3613d7e"
      },
      "execution_count": 20,
      "outputs": [
        {
          "output_type": "stream",
          "name": "stdout",
          "text": [
            "range(0, 5)\n",
            "<class 'range'>\n"
          ]
        }
      ]
    },
    {
      "cell_type": "code",
      "source": [
        "nums = [0, 1, 2, 3, 4]\n",
        "print(nums[2:4]) # get a slice from index 2 to 4 (exclusive)\n",
        "print(nums[2:]) # get a slice from index 2 to the end\n",
        "print(nums[:2]) # get a slice from start to index 2\n",
        "print(nums[:]) # get a slice of whole list\n",
        "(print(nums[:-1])) # slice indices can be negative\n",
        "nums[2:4] = [8, 8, 23, 56, 9] # assign a new sublist to a slice\n",
        "print(nums)"
      ],
      "metadata": {
        "colab": {
          "base_uri": "https://localhost:8080/",
          "height": 0
        },
        "id": "2R_skwFEtcrt",
        "outputId": "f96b9c2c-7aca-4c87-cfc8-38deb3777612"
      },
      "execution_count": 21,
      "outputs": [
        {
          "output_type": "stream",
          "name": "stdout",
          "text": [
            "[2, 3]\n",
            "[2, 3, 4]\n",
            "[0, 1]\n",
            "[0, 1, 2, 3, 4]\n",
            "[0, 1, 2, 3]\n",
            "[0, 1, 8, 8, 23, 56, 9, 4]\n"
          ]
        }
      ]
    },
    {
      "cell_type": "code",
      "source": [
        "animals = ['cat', 'dog', 'monkey']\n",
        "for animal in animals:\n",
        "  print(animal)"
      ],
      "metadata": {
        "colab": {
          "base_uri": "https://localhost:8080/",
          "height": 0
        },
        "id": "oBhBSlbruHA7",
        "outputId": "fc1384b4-86ed-459b-e72d-640d67bbbf11"
      },
      "execution_count": 22,
      "outputs": [
        {
          "output_type": "stream",
          "name": "stdout",
          "text": [
            "cat\n",
            "dog\n",
            "monkey\n"
          ]
        }
      ]
    },
    {
      "cell_type": "code",
      "source": [
        "for idx, animal in enumerate(animals):\n",
        "  print( '#%d: %s' % (idx + 1, animal))"
      ],
      "metadata": {
        "colab": {
          "base_uri": "https://localhost:8080/",
          "height": 0
        },
        "id": "2uNBcoxAuaYo",
        "outputId": "7f989c47-93cb-4c0a-adbb-e86f94956817"
      },
      "execution_count": 23,
      "outputs": [
        {
          "output_type": "stream",
          "name": "stdout",
          "text": [
            "#1: cat\n",
            "#2: dog\n",
            "#3: monkey\n"
          ]
        }
      ]
    },
    {
      "cell_type": "code",
      "source": [
        "# List comprehension\n",
        "nums = [0, 1, 3, 4]\n",
        "squares = []\n",
        "for x in nums:\n",
        "  squares.append(x ** 2)\n",
        "print(squares)"
      ],
      "metadata": {
        "colab": {
          "base_uri": "https://localhost:8080/",
          "height": 0
        },
        "id": "TRtrV8Uqu0kN",
        "outputId": "ef7f5a20-be91-44bd-81fe-4a61c271a31f"
      },
      "execution_count": 24,
      "outputs": [
        {
          "output_type": "stream",
          "name": "stdout",
          "text": [
            "[0, 1, 9, 16]\n"
          ]
        }
      ]
    },
    {
      "cell_type": "code",
      "source": [
        "squares = [x ** 2 for x in nums]\n",
        "print(squares)"
      ],
      "metadata": {
        "colab": {
          "base_uri": "https://localhost:8080/",
          "height": 0
        },
        "id": "fms_vydwu94b",
        "outputId": "042bfd05-b0ed-4621-f965-158298d8f32a"
      },
      "execution_count": 25,
      "outputs": [
        {
          "output_type": "stream",
          "name": "stdout",
          "text": [
            "[0, 1, 9, 16]\n"
          ]
        }
      ]
    },
    {
      "cell_type": "code",
      "source": [
        "even_squares = [x ** 2 for x in nums if x % 2 == 0]\n",
        "print(even_squares)"
      ],
      "metadata": {
        "colab": {
          "base_uri": "https://localhost:8080/",
          "height": 0
        },
        "id": "cNEJoeY8vTH_",
        "outputId": "66448172-02e9-447c-943c-02989b86498a"
      },
      "execution_count": 26,
      "outputs": [
        {
          "output_type": "stream",
          "name": "stdout",
          "text": [
            "[0, 16]\n"
          ]
        }
      ]
    },
    {
      "cell_type": "code",
      "source": [
        "d = {'cat': 'cute', 'dog': 'furry'} # creates dict with some data\n",
        "print(d['cat'])\n",
        "print('cat' in d)"
      ],
      "metadata": {
        "colab": {
          "base_uri": "https://localhost:8080/",
          "height": 0
        },
        "id": "IbAzZbXHvjSu",
        "outputId": "d87e67f1-0ef3-4d48-eb57-5ffd9ecd6a9a"
      },
      "execution_count": 27,
      "outputs": [
        {
          "output_type": "stream",
          "name": "stdout",
          "text": [
            "cute\n",
            "True\n"
          ]
        }
      ]
    },
    {
      "cell_type": "code",
      "source": [
        "d['fish'] = 'wet'\n",
        "print(d['fish'])"
      ],
      "metadata": {
        "colab": {
          "base_uri": "https://localhost:8080/",
          "height": 0
        },
        "id": "mQ3TJJfVvryI",
        "outputId": "a8a0de4b-972f-433e-b5fa-1b319e324574"
      },
      "execution_count": 28,
      "outputs": [
        {
          "output_type": "stream",
          "name": "stdout",
          "text": [
            "wet\n"
          ]
        }
      ]
    },
    {
      "cell_type": "code",
      "source": [
        "print(d['monkey']) # will throw KeyError"
      ],
      "metadata": {
        "colab": {
          "base_uri": "https://localhost:8080/",
          "height": 141
        },
        "id": "VoGx9ySfvwny",
        "outputId": "3b8863ca-4ee9-464a-9cfc-2ab331f48cb4"
      },
      "execution_count": 29,
      "outputs": [
        {
          "output_type": "error",
          "ename": "KeyError",
          "evalue": "'monkey'",
          "traceback": [
            "\u001b[0;31m---------------------------------------------------------------------------\u001b[0m",
            "\u001b[0;31mKeyError\u001b[0m                                  Traceback (most recent call last)",
            "\u001b[0;32m<ipython-input-29-ef9bb4954edb>\u001b[0m in \u001b[0;36m<cell line: 1>\u001b[0;34m()\u001b[0m\n\u001b[0;32m----> 1\u001b[0;31m \u001b[0mprint\u001b[0m\u001b[0;34m(\u001b[0m\u001b[0md\u001b[0m\u001b[0;34m[\u001b[0m\u001b[0;34m'monkey'\u001b[0m\u001b[0;34m]\u001b[0m\u001b[0;34m)\u001b[0m\u001b[0;34m\u001b[0m\u001b[0;34m\u001b[0m\u001b[0m\n\u001b[0m",
            "\u001b[0;31mKeyError\u001b[0m: 'monkey'"
          ]
        }
      ]
    },
    {
      "cell_type": "code",
      "source": [
        "print(d.get('monkey', 'N/A')) # get element with default"
      ],
      "metadata": {
        "colab": {
          "base_uri": "https://localhost:8080/",
          "height": 0
        },
        "id": "TdK7DVBJv1_V",
        "outputId": "058f0a55-24aa-4a12-90c9-76ce45447597"
      },
      "execution_count": 30,
      "outputs": [
        {
          "output_type": "stream",
          "name": "stdout",
          "text": [
            "N/A\n"
          ]
        }
      ]
    },
    {
      "cell_type": "code",
      "source": [
        "del d['fish']\n",
        "print(d.get('fish', 'N/A'))"
      ],
      "metadata": {
        "colab": {
          "base_uri": "https://localhost:8080/",
          "height": 0
        },
        "id": "SbmZoXA3v_3W",
        "outputId": "df7aa3a3-4eeb-4436-fe17-726388592a68"
      },
      "execution_count": 31,
      "outputs": [
        {
          "output_type": "stream",
          "name": "stdout",
          "text": [
            "N/A\n"
          ]
        }
      ]
    },
    {
      "cell_type": "code",
      "source": [
        "d = { 'person': 2, 'cat': 4, 'spider': 8}\n",
        "for animal, legs in d.items():\n",
        "  print('A %s has %d legs' % (animal, legs))"
      ],
      "metadata": {
        "colab": {
          "base_uri": "https://localhost:8080/",
          "height": 0
        },
        "id": "pyodvn3lwEku",
        "outputId": "26feb976-fd1d-4193-dab6-62116f892f8e"
      },
      "execution_count": 32,
      "outputs": [
        {
          "output_type": "stream",
          "name": "stdout",
          "text": [
            "A person has 2 legs\n",
            "A cat has 4 legs\n",
            "A spider has 8 legs\n"
          ]
        }
      ]
    },
    {
      "cell_type": "code",
      "source": [
        "d = { 'a': 2, 'c': 4, 'd': 1, 'b': 10}\n",
        "for animal, legs in sorted(d.items(), key = lambda x: x[0]): # sorts by key\n",
        "  print('%s - %d' % (animal, legs))\n",
        "\n",
        "for animal, legs in sorted(d.items(), key = lambda x: x[1]): # sorts by values\n",
        "  print('%s - %d' % (animal, legs))"
      ],
      "metadata": {
        "colab": {
          "base_uri": "https://localhost:8080/",
          "height": 0
        },
        "id": "m4kR4Y91wSas",
        "outputId": "12a472af-32a8-4f91-b8ab-82059e6b6186"
      },
      "execution_count": 34,
      "outputs": [
        {
          "output_type": "stream",
          "name": "stdout",
          "text": [
            "a - 2\n",
            "b - 10\n",
            "c - 4\n",
            "d - 1\n",
            "d - 1\n",
            "a - 2\n",
            "c - 4\n",
            "b - 10\n"
          ]
        }
      ]
    },
    {
      "cell_type": "code",
      "source": [
        "# dict comprehension\n",
        "nums = [0, 1, 2, 3, 4]\n",
        "even_num_to_square = {x: x ** 2 for x in nums if x % 2 == 0} # runs faster than traditional for loop\n",
        "print(even_num_to_square)"
      ],
      "metadata": {
        "colab": {
          "base_uri": "https://localhost:8080/",
          "height": 0
        },
        "id": "MuwAZ-TYwwtS",
        "outputId": "a72ced3f-1159-4145-d29b-2abe961438e6"
      },
      "execution_count": 35,
      "outputs": [
        {
          "output_type": "stream",
          "name": "stdout",
          "text": [
            "{0: 0, 2: 4, 4: 16}\n"
          ]
        }
      ]
    },
    {
      "cell_type": "code",
      "source": [
        "# Set\n",
        "animals = { 'cat', 'dog', 'cat'} # no duplicate values\n",
        "print(animals)"
      ],
      "metadata": {
        "colab": {
          "base_uri": "https://localhost:8080/",
          "height": 0
        },
        "id": "tIJzsmhxxEex",
        "outputId": "b7dbca74-126c-468b-cd2d-48ee443e2bbd"
      },
      "execution_count": 36,
      "outputs": [
        {
          "output_type": "stream",
          "name": "stdout",
          "text": [
            "{'cat', 'dog'}\n"
          ]
        }
      ]
    },
    {
      "cell_type": "code",
      "source": [
        "animals = ['cat', 'dog', 'cat']\n",
        "print(animals)\n",
        "animals = set(animals)\n",
        "print(animals)"
      ],
      "metadata": {
        "colab": {
          "base_uri": "https://localhost:8080/",
          "height": 0
        },
        "id": "cjjk4Gx4xPVK",
        "outputId": "6bdf5baa-89ec-4578-a246-84413588bc9d"
      },
      "execution_count": 37,
      "outputs": [
        {
          "output_type": "stream",
          "name": "stdout",
          "text": [
            "['cat', 'dog', 'cat']\n",
            "{'cat', 'dog'}\n"
          ]
        }
      ]
    },
    {
      "cell_type": "code",
      "source": [
        "animals.add('fish')\n",
        "print('fish' in animals)\n",
        "print(len(animals))"
      ],
      "metadata": {
        "colab": {
          "base_uri": "https://localhost:8080/",
          "height": 0
        },
        "id": "WRK1iIouxWAn",
        "outputId": "a70e3647-1e54-43af-c856-0334d0930363"
      },
      "execution_count": 38,
      "outputs": [
        {
          "output_type": "stream",
          "name": "stdout",
          "text": [
            "True\n",
            "3\n"
          ]
        }
      ]
    },
    {
      "cell_type": "code",
      "source": [
        "animals.add('cat')\n",
        "print(len(animals))\n",
        "animals.remove('cat')\n",
        "print(len(animals))"
      ],
      "metadata": {
        "colab": {
          "base_uri": "https://localhost:8080/",
          "height": 0
        },
        "id": "NnLRzeKCxbLS",
        "outputId": "707b706e-dbb1-40c1-cdca-69ecc76235d5"
      },
      "execution_count": 39,
      "outputs": [
        {
          "output_type": "stream",
          "name": "stdout",
          "text": [
            "3\n",
            "2\n"
          ]
        }
      ]
    },
    {
      "cell_type": "code",
      "source": [
        "# iterating over set has same syntax as iterating over list\n",
        "animals = {'cat', 'dog', 'fish'}\n",
        "for idx, animal in enumerate(animals):\n",
        "  print(idx, animal)"
      ],
      "metadata": {
        "colab": {
          "base_uri": "https://localhost:8080/",
          "height": 0
        },
        "id": "7wZYFMc2xjk9",
        "outputId": "2f3be504-0838-498b-dc7a-8b42e0bf64ce"
      },
      "execution_count": 40,
      "outputs": [
        {
          "output_type": "stream",
          "name": "stdout",
          "text": [
            "0 cat\n",
            "1 fish\n",
            "2 dog\n"
          ]
        }
      ]
    },
    {
      "cell_type": "code",
      "source": [
        "from math import sqrt\n",
        "myset = {int(sqrt(x)) for x in range(30)}\n",
        "print(myset)"
      ],
      "metadata": {
        "colab": {
          "base_uri": "https://localhost:8080/",
          "height": 0
        },
        "id": "A9yyKhFFxymh",
        "outputId": "91801b7c-ccbd-4dc4-b088-05cb1d69f2c2"
      },
      "execution_count": 41,
      "outputs": [
        {
          "output_type": "stream",
          "name": "stdout",
          "text": [
            "{0, 1, 2, 3, 4, 5}\n"
          ]
        }
      ]
    },
    {
      "cell_type": "code",
      "source": [
        "# tuples\n",
        "d = {(x, x+1): x for x in range(10)} # create a dict with tuple keys\n",
        "print(d)\n",
        "t = (5, 6)\n",
        "print(type(t))\n",
        "print(d[t])\n",
        "print(d[(1, 2)])\n",
        "\n"
      ],
      "metadata": {
        "colab": {
          "base_uri": "https://localhost:8080/",
          "height": 245
        },
        "id": "VSmHNGoIx7ev",
        "outputId": "3c0eaf80-5913-46dc-f7ee-a82d2e13a8c4"
      },
      "execution_count": 44,
      "outputs": [
        {
          "output_type": "stream",
          "name": "stdout",
          "text": [
            "{(0, 1): 0, (1, 2): 1, (2, 3): 2, (3, 4): 3, (4, 5): 4, (5, 6): 5, (6, 7): 6, (7, 8): 7, (8, 9): 8, (9, 10): 9}\n",
            "<class 'tuple'>\n",
            "5\n",
            "1\n"
          ]
        },
        {
          "output_type": "error",
          "ename": "TypeError",
          "evalue": "'tuple' object does not support item assignment",
          "traceback": [
            "\u001b[0;31m---------------------------------------------------------------------------\u001b[0m",
            "\u001b[0;31mTypeError\u001b[0m                                 Traceback (most recent call last)",
            "\u001b[0;32m<ipython-input-44-aacc712323ff>\u001b[0m in \u001b[0;36m<cell line: 10>\u001b[0;34m()\u001b[0m\n\u001b[1;32m      8\u001b[0m \u001b[0;34m\u001b[0m\u001b[0m\n\u001b[1;32m      9\u001b[0m \u001b[0;31m# tuples are immutable\u001b[0m\u001b[0;34m\u001b[0m\u001b[0;34m\u001b[0m\u001b[0m\n\u001b[0;32m---> 10\u001b[0;31m \u001b[0mt\u001b[0m\u001b[0;34m[\u001b[0m\u001b[0;36m0\u001b[0m\u001b[0;34m]\u001b[0m \u001b[0;34m=\u001b[0m \u001b[0;36m1\u001b[0m\u001b[0;34m\u001b[0m\u001b[0;34m\u001b[0m\u001b[0m\n\u001b[0m",
            "\u001b[0;31mTypeError\u001b[0m: 'tuple' object does not support item assignment"
          ]
        }
      ]
    },
    {
      "cell_type": "code",
      "source": [
        "# tuples are immutable\n",
        "# throws TypeError\n",
        "t[0] = 1"
      ],
      "metadata": {
        "colab": {
          "base_uri": "https://localhost:8080/",
          "height": 159
        },
        "id": "p416bHzlyUe3",
        "outputId": "2526a3a0-4835-4a5a-845c-d6d97fe2e5d6"
      },
      "execution_count": 45,
      "outputs": [
        {
          "output_type": "error",
          "ename": "TypeError",
          "evalue": "'tuple' object does not support item assignment",
          "traceback": [
            "\u001b[0;31m---------------------------------------------------------------------------\u001b[0m",
            "\u001b[0;31mTypeError\u001b[0m                                 Traceback (most recent call last)",
            "\u001b[0;32m<ipython-input-45-499a56cb5492>\u001b[0m in \u001b[0;36m<cell line: 2>\u001b[0;34m()\u001b[0m\n\u001b[1;32m      1\u001b[0m \u001b[0;31m# tuples are immutable\u001b[0m\u001b[0;34m\u001b[0m\u001b[0;34m\u001b[0m\u001b[0m\n\u001b[0;32m----> 2\u001b[0;31m \u001b[0mt\u001b[0m\u001b[0;34m[\u001b[0m\u001b[0;36m0\u001b[0m\u001b[0;34m]\u001b[0m \u001b[0;34m=\u001b[0m \u001b[0;36m1\u001b[0m\u001b[0;34m\u001b[0m\u001b[0;34m\u001b[0m\u001b[0m\n\u001b[0m",
            "\u001b[0;31mTypeError\u001b[0m: 'tuple' object does not support item assignment"
          ]
        }
      ]
    },
    {
      "cell_type": "code",
      "source": [
        "def sign(x):\n",
        "  if x > 0:\n",
        "    return 'positive'\n",
        "  elif x < 0:\n",
        "    return 'negative'\n",
        "  else:\n",
        "    return 'zero'\n",
        "for x in [-1, 0, 1]:\n",
        "  print(sign(x))"
      ],
      "metadata": {
        "colab": {
          "base_uri": "https://localhost:8080/"
        },
        "id": "Iso0XSBPycxm",
        "outputId": "a4520ae9-f577-455c-ef3f-44a1b373834f"
      },
      "execution_count": 46,
      "outputs": [
        {
          "output_type": "stream",
          "name": "stdout",
          "text": [
            "negative\n",
            "zero\n",
            "positive\n"
          ]
        }
      ]
    },
    {
      "cell_type": "code",
      "source": [
        "def hello(name, loud = False):\n",
        "  if loud:\n",
        "    print('hello, %s' % name.upper())\n",
        "  else:\n",
        "    print('Hello, %s!' % name)\n",
        "\n",
        "# hello()  throws TypeError\n",
        "hello('Fred')\n",
        "hello('Fred', True)"
      ],
      "metadata": {
        "colab": {
          "base_uri": "https://localhost:8080/"
        },
        "id": "_pg0SsDq-k-k",
        "outputId": "f9fd41a3-10de-4de7-eb7e-22f87f3d472d"
      },
      "execution_count": 48,
      "outputs": [
        {
          "output_type": "stream",
          "name": "stdout",
          "text": [
            "Hello, Fred!\n",
            "hello, FRED\n"
          ]
        }
      ]
    },
    {
      "cell_type": "code",
      "source": [
        "# parameter is variable in declaration of function. Arugment is actual value of this variables that gets passed to function\n",
        "# put all default parameters after required args\n",
        "def hello(loud = False, name):\n",
        "  if loud:\n",
        "    print('hello')\n",
        "  else:\n",
        "    print('hello' % name)"
      ],
      "metadata": {
        "id": "GbhsXgwS-_jb"
      },
      "execution_count": null,
      "outputs": []
    },
    {
      "cell_type": "code",
      "source": [
        "# first argument of a method is self - just a convention: name self has absolutely no special meaning\n",
        "class A:\n",
        "  def print_something(self):\n",
        "    print('something')\n",
        "\n",
        "a = A()\n",
        "a.print_something()"
      ],
      "metadata": {
        "colab": {
          "base_uri": "https://localhost:8080/"
        },
        "id": "41HOzbBS_RYn",
        "outputId": "e7ee9ff5-366c-400f-d416-33c5745b80fd"
      },
      "execution_count": 49,
      "outputs": [
        {
          "output_type": "stream",
          "name": "stdout",
          "text": [
            "something\n"
          ]
        }
      ]
    },
    {
      "cell_type": "code",
      "source": [
        "class Greeter:\n",
        "  name = \"\"\n",
        "  # constructor (optional but needed for any initialization)\n",
        "  def __init__(self, name):\n",
        "    self.name = name # create instance variable\n",
        "\n",
        "  def greet(self, loud = False):\n",
        "    if loud:\n",
        "      print('HELLO')\n",
        "    else:\n",
        "      print('hello')\n",
        "\n",
        "g = Greeter('Fred')\n",
        "g.greet()\n",
        "g.greet(loud=True)"
      ],
      "metadata": {
        "colab": {
          "base_uri": "https://localhost:8080/"
        },
        "id": "dVK-f1j0_d5T",
        "outputId": "790cd96f-5929-418a-f2f0-6d8bd0926fad"
      },
      "execution_count": 50,
      "outputs": [
        {
          "output_type": "stream",
          "name": "stdout",
          "text": [
            "hello\n",
            "HELLO\n"
          ]
        }
      ]
    }
  ]
}