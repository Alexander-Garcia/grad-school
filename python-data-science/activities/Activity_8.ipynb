{
 "cells": [
  {
   "cell_type": "markdown",
   "id": "36436ff1-da78-42f6-8de7-34811cd30232",
   "metadata": {},
   "source": [
    "### Supervised Machine Learning\n",
    "- The learning algorithms that solve problem by using datasets to train models in such a way that every instance has its corresponding label in the dataset.\n",
    "- The model is supposed to have learnt to estimate a mapping function <i> y = f(X) </i> where X consists of input variables and y is the target variable so that it could provide prediction for every instances of input variables.\n",
    "- These algorithms could be used to solve either a classification problem or a regression problem.\n",
    "- Both of these problems have the same goal of constructing a model that could predict the target variable, but, the target variable is continuous (takes numerical values) in the regression problem whereas the target variable is categorical in the classification problem."
   ]
  },
  {
   "cell_type": "markdown",
   "id": "8ab36342-b61f-421d-8b8b-ca44cc260a5a",
   "metadata": {},
   "source": [
    "### Using the same data but different approaches - Regression\n",
    "### Boston Housing Prediction\n",
    "#### Problem Definition\n",
    "Problem: Boston House Price Prediction\n",
    "- The goal is to predict the price of houses in Boston area.\n",
    "- Since we are not exactly partitioning our dataset into a fixed number of classes, but rather using the predictors to estimate the prices of houses, the problem is a regression problem.\n",
    "Relevant Dataset: https://www.kaggle.com/datasets/vikrishnan/boston-house-prices/data?select=housing.csv\n",
    "##### Data Description:\n",
    "| Attribute | Description |\n",
    "| --- | --- |\n",
    "| crim | per capita crime rate by town |\n",
    "| zn | proportion of residential land zoned for lots over 25,000sq.ft |\n",
    "| indus | proportion of non-retai business acres per town |\n",
    "| chas | Charles River dummy variable (=1 if tract bounds river; 0 otherwise) |\n",
    "| nox | nitric oxides concentration (parts per 10 million) |\n",
    "| rm | average number of rooms per dwelling |\n",
    "| age | proportion of owner-occupied units built prior to 1940 |\n",
    "| dis | weighted distances to five Boston employment centers |\n",
    "| rad | index of accessibility to radial highways |\n",
    "| tax | full-value property-tax rate per USD 10,000 |\n",
    "| ptratio | pupil-teacher ratio by town |\n",
    "| b | 1000(B-0.63)^2 where B is the proportion of blacks by town |\n",
    "| lstat | percentage of lower status of the population |\n",
    "| medv | median value of owner-occupied homes in USD 1000’s |"
   ]
  },
  {
   "cell_type": "markdown",
   "id": "9ecaac86-4de5-4341-b5df-6d0ad5b725a8",
   "metadata": {},
   "source": [
    "#### Import all necessary libraries"
   ]
  },
  {
   "cell_type": "code",
   "execution_count": 1,
   "id": "b17c8291-d795-49c9-8ed1-b08592b19f81",
   "metadata": {},
   "outputs": [],
   "source": [
    "from mpl_toolkits.mplot3d import Axes3D\n",
    "from sklearn.preprocessing import StandardScaler\n",
    "import matplotlib.pyplot as plt # plotting\n",
    "import numpy as np # linear algebra\n",
    "import os # accessing directory structure\n",
    "import pandas as pd\n",
    "import seaborn as sns\n",
    "import matplotlib.pyplot as plt\n",
    "from scipy import stats\n",
    "from sklearn import preprocessing\n",
    "from sklearn import datasets, linear_model\n",
    "from sklearn.model_selection import cross_val_score\n",
    "from sklearn.model_selection import KFold\n",
    "import numpy as np\n",
    "from sklearn.neighbors import KNeighborsRegressor\n",
    "from sklearn.model_selection import train_test_split"
   ]
  },
  {
   "cell_type": "markdown",
   "id": "b86190a3-cb72-4eaa-89f7-6e0386599e15",
   "metadata": {},
   "source": [
    "#### Loading the data and exploratory analysis"
   ]
  },
  {
   "cell_type": "code",
   "execution_count": null,
   "id": "3cf64f07-8d34-4584-b7a4-7d9491a5b5e7",
   "metadata": {},
   "outputs": [],
   "source": [
    "column_names = ['CRIM', 'ZN', 'INDUS', 'CHAS', 'NOX', 'RM', 'AGE', 'DIS', 'RAD', 'TAX', 'PTRATIO', 'B', 'LSTAT', 'MEDV']\n",
    "data = pd.read_csv('./Boston_housing.csv', header=None, delimiter=r\"\\s+\", names=column_names)\n",
    "data.dataframeName = 'housing.csv'\n",
    "nRow, nCol = data.shape\n",
    "print(f'There are {nRow} rows and {nCol} columns')"
   ]
  },
  {
   "cell_type": "markdown",
   "id": "7943e4ee-711c-43f9-b696-553b13671420",
   "metadata": {},
   "source": [
    "#### Data Preparation for Training and Testing"
   ]
  },
  {
   "cell_type": "markdown",
   "id": "df8958b4-5c68-4af8-bbc5-e89fd593e734",
   "metadata": {},
   "source": [
    "#### Select and build the model"
   ]
  },
  {
   "cell_type": "markdown",
   "id": "9d80379b-94e8-470e-8cb9-3b3f2ff1690b",
   "metadata": {},
   "source": [
    "#### Train the model"
   ]
  },
  {
   "cell_type": "markdown",
   "id": "955b89de-c2d4-4440-a811-5980978e75f3",
   "metadata": {},
   "source": [
    "#### Make predictions"
   ]
  },
  {
   "cell_type": "markdown",
   "id": "f30b48fd-66c4-46e6-9774-0b56c60f98f5",
   "metadata": {},
   "source": [
    "#### Evaluate the results"
   ]
  },
  {
   "cell_type": "markdown",
   "id": "da306714-337f-4baf-b57f-ba3c0700a6c0",
   "metadata": {},
   "source": [
    "#### What is the problem here?"
   ]
  },
  {
   "cell_type": "markdown",
   "id": "1d6864f7-9d25-437f-a07a-45d08c8a1295",
   "metadata": {},
   "source": [
    "#### What to do when the result is worst?\n",
    "- Tune the model?\n",
    "- To go with another one?"
   ]
  },
  {
   "cell_type": "markdown",
   "id": "ff18f1ab-dbe4-423a-befa-30cc0d21138f",
   "metadata": {},
   "source": [
    "#### Questions:\n",
    "- Which model is the best one?\n",
    "- Is the best model is of an acceptable quality?\n",
    "- Can you use accuracy to assess the quality of these models?"
   ]
  },
  {
   "cell_type": "markdown",
   "id": "9711bcfd-b3e2-49a3-81a7-3a4e57fd3222",
   "metadata": {},
   "source": [
    "#### Using the same data to solve a classification problem!\n",
    "- How can I translate a regression problem into a classification problem?"
   ]
  },
  {
   "cell_type": "markdown",
   "id": "ae7a0072-fa09-4ddd-9a4e-bae25cb2ee47",
   "metadata": {},
   "source": [
    "#### Revised Problem Definition:\n",
    "- The goal is to predict the level of housing price values in such a way that \n",
    "    - if MEDV <= 15, the level would be low,\n",
    "    - else if MEDV > 15 and MEDV <= 25, the level would be medium\n",
    "    - otherwise, the level would be high"
   ]
  },
  {
   "cell_type": "code",
   "execution_count": null,
   "id": "a71edef1-4fed-4f53-8cce-ce90340503f9",
   "metadata": {},
   "outputs": [],
   "source": []
  }
 ],
 "metadata": {
  "kernelspec": {
   "display_name": "Python 3 (ipykernel)",
   "language": "python",
   "name": "python3"
  },
  "language_info": {
   "codemirror_mode": {
    "name": "ipython",
    "version": 3
   },
   "file_extension": ".py",
   "mimetype": "text/x-python",
   "name": "python",
   "nbconvert_exporter": "python",
   "pygments_lexer": "ipython3",
   "version": "3.10.9"
  }
 },
 "nbformat": 4,
 "nbformat_minor": 5
}
