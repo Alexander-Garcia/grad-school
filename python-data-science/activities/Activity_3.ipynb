{
  "nbformat": 4,
  "nbformat_minor": 0,
  "metadata": {
    "colab": {
      "provenance": []
    },
    "kernelspec": {
      "name": "python3",
      "display_name": "Python 3"
    },
    "language_info": {
      "name": "python"
    }
  },
  "cells": [
    {
      "cell_type": "code",
      "execution_count": 23,
      "metadata": {
        "colab": {
          "base_uri": "https://localhost:8080/"
        },
        "id": "R4W8xR7DdowC",
        "outputId": "232e9a79-7636-4f9c-f029-03a74bc16e85"
      },
      "outputs": [
        {
          "output_type": "stream",
          "name": "stdout",
          "text": [
            "Enter 10 numbers separated by spaces\n",
            "5 3 2 7 9\n",
            "Sum 26\n",
            "product is 1890\n",
            "average 5.2\n",
            "min 2\n",
            "max 9\n",
            "reverse [9, 7, 2, 3, 5]\n",
            "all odds [5, 3, 7, 9]\n",
            "remove duplicates [2, 3, 5, 7, 9]\n",
            "all evens [2]\n",
            "sorted [2, 3, 5, 7, 9]\n"
          ]
        }
      ],
      "source": [
        "# Q1\n",
        "def product(items):\n",
        "  finished = 1\n",
        "  for item in items:\n",
        "    finished *= item\n",
        "  return finished\n",
        "\n",
        "def average(l):\n",
        "  return sum(l) / len(l)\n",
        "\n",
        "user_input = input(\"Enter 10 numbers separated by spaces\\n\").split()\n",
        "user_ints = [int(x) for x in user_input]\n",
        "addn = sum(user_ints)\n",
        "prod = product(user_ints)\n",
        "av = average(user_ints)\n",
        "min_value = min(user_ints)\n",
        "max_value = max(user_ints)\n",
        "\n",
        "print(f'Sum {addn}')\n",
        "print(f'product is {prod}')\n",
        "print(f'average {av}')\n",
        "print(f'min {min_value}')\n",
        "print(f'max {max_value}')\n",
        "print(f'reverse {list(reversed(user_ints))}')\n",
        "print(f'all odds {[x for x in user_ints if x % 2 != 0]}')\n",
        "print(f'remove duplicates {list(set(user_ints))}')\n",
        "print(f'all evens {[x for x in user_ints if x % 2 == 0]}')\n",
        "\n",
        "user_ints.sort(key=lambda x:x)\n",
        "print(f'sorted {user_ints}')"
      ]
    },
    {
      "cell_type": "code",
      "source": [
        "# Q2\n",
        "keys = [\"sum\", \"product\", \"average\", \"min\", \"max\"]\n",
        "values = [addn, prod, av, min_value, max_value]\n",
        "stats_dict = { k:v for k, v in zip(keys, values)}\n",
        "print(stats_dict)"
      ],
      "metadata": {
        "colab": {
          "base_uri": "https://localhost:8080/"
        },
        "id": "rvsDBEg3kcIQ",
        "outputId": "752c5891-1fd2-4cdb-e729-d3de0cd85849"
      },
      "execution_count": 21,
      "outputs": [
        {
          "output_type": "stream",
          "name": "stdout",
          "text": [
            "{'sum': 27, 'product': 5040, 'average': 4.5, 'min': 2, 'max': 7}\n"
          ]
        }
      ]
    },
    {
      "cell_type": "code",
      "source": [
        "# Q3\n",
        "students = [\"Alex\", \"Mica\", \"Nancy\", \"Eva\", \"Drew\"]\n",
        "classes = [\"CMPSCI_4200\", \"CMPSCI_4250\", \"CMPSCI_4300\"]\n",
        "course_grades = {}\n",
        "full_dict = {}\n",
        "for student in students:\n",
        "  for course in classes:\n",
        "    course_grades.update({ course: input(f\"Enter grade for {student} in {course}\")})\n",
        "  full_dict.update({ student: course_grades })\n",
        "\n",
        "stats_for_courses = {}\n",
        "for student, courses in full_dict.items():\n",
        "  for course, grade in courses.items():\n",
        "    if grade < 60:\n",
        "      print(f'student {student} failed {course}')\n",
        "    if grade > 90:\n",
        "      print(f'{student} receive {grade} in {course}')\n",
        "\n",
        "    if grade > 60:\n",
        "      print(f'{student} passed {course} with an {grade}')"
      ],
      "metadata": {
        "colab": {
          "base_uri": "https://localhost:8080/"
        },
        "id": "zvYtUeWUlgq3",
        "outputId": "929a2e8d-0265-41f2-ec03-73330e1e345f"
      },
      "execution_count": 39,
      "outputs": [
        {
          "output_type": "stream",
          "name": "stdout",
          "text": [
            "Enter grade for Alex in CMPSCI_4200A\n",
            "Enter grade for Alex in CMPSCI_4250B\n",
            "Enter grade for Alex in CMPSCI_4300A\n",
            "Enter grade for Mica in CMPSCI_4200B\n",
            "Enter grade for Mica in CMPSCI_4250F\n",
            "Enter grade for Mica in CMPSCI_4300F\n",
            "Enter grade for Nancy in CMPSCI_4200B\n",
            "Enter grade for Nancy in CMPSCI_4250A\n",
            "Enter grade for Nancy in CMPSCI_4300B\n",
            "Enter grade for Eva in CMPSCI_4200D\n",
            "Enter grade for Eva in CMPSCI_4250C\n",
            "Enter grade for Eva in CMPSCI_4300B\n",
            "Enter grade for Drew in CMPSCI_4200A\n",
            "Enter grade for Drew in CMPSCI_4250B\n",
            "Enter grade for Drew in CMPSCI_4300F\n",
            "{'Alex': {'CMPSCI_4200': 'A', 'CMPSCI_4250': 'B', 'CMPSCI_4300': 'F'}, 'Mica': {'CMPSCI_4200': 'A', 'CMPSCI_4250': 'B', 'CMPSCI_4300': 'F'}, 'Nancy': {'CMPSCI_4200': 'A', 'CMPSCI_4250': 'B', 'CMPSCI_4300': 'F'}, 'Eva': {'CMPSCI_4200': 'A', 'CMPSCI_4250': 'B', 'CMPSCI_4300': 'F'}, 'Drew': {'CMPSCI_4200': 'A', 'CMPSCI_4250': 'B', 'CMPSCI_4300': 'F'}}\n",
            "Alex receive A in CMPSCI_4200\n",
            "Alex passed CMPSCI_4200 with an A\n",
            "Alex passed CMPSCI_4250 with an B\n",
            "student Alex failed CMPSCI_4300\n",
            "Mica receive A in CMPSCI_4200\n",
            "Mica passed CMPSCI_4200 with an A\n",
            "Mica passed CMPSCI_4250 with an B\n",
            "student Mica failed CMPSCI_4300\n",
            "Nancy receive A in CMPSCI_4200\n",
            "Nancy passed CMPSCI_4200 with an A\n",
            "Nancy passed CMPSCI_4250 with an B\n",
            "student Nancy failed CMPSCI_4300\n",
            "Eva receive A in CMPSCI_4200\n",
            "Eva passed CMPSCI_4200 with an A\n",
            "Eva passed CMPSCI_4250 with an B\n",
            "student Eva failed CMPSCI_4300\n",
            "Drew receive A in CMPSCI_4200\n",
            "Drew passed CMPSCI_4200 with an A\n",
            "Drew passed CMPSCI_4250 with an B\n",
            "student Drew failed CMPSCI_4300\n"
          ]
        }
      ]
    },
    {
      "cell_type": "code",
      "source": [],
      "metadata": {
        "id": "0MSjG-qVpNaB"
      },
      "execution_count": null,
      "outputs": []
    }
  ]
}