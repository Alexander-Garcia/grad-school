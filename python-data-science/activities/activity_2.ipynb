{
  "nbformat": 4,
  "nbformat_minor": 0,
  "metadata": {
    "colab": {
      "provenance": [],
      "authorship_tag": "ABX9TyNqyGytuSXfREp+NVDP+Fd2",
      "include_colab_link": true
    },
    "kernelspec": {
      "name": "python3",
      "display_name": "Python 3"
    },
    "language_info": {
      "name": "python"
    }
  },
  "cells": [
    {
      "cell_type": "markdown",
      "metadata": {
        "id": "view-in-github",
        "colab_type": "text"
      },
      "source": [
        "<a href=\"https://colab.research.google.com/github/Alexander-Garcia/grad-school/blob/main/activity_2.ipynb\" target=\"_parent\"><img src=\"https://colab.research.google.com/assets/colab-badge.svg\" alt=\"Open In Colab\"/></a>"
      ]
    },
    {
      "cell_type": "code",
      "execution_count": 33,
      "metadata": {
        "colab": {
          "base_uri": "https://localhost:8080/"
        },
        "id": "vO_443pSbSBa",
        "outputId": "b36d110e-54a5-4720-b498-b6ab206a55d4"
      },
      "outputs": [
        {
          "output_type": "stream",
          "name": "stdout",
          "text": [
            "Enter a lower bound for the range (inclusive)\n",
            "3\n",
            "Enter an upper bound for the range (exclusive)\n",
            "10\n",
            "[4, 6, 5, 8, 6, 8, 8]\n",
            "[2, 8, 7, 3, 5, 10, 2, 5]\n",
            "with both inputs [6, 6]\n",
            "without lower There is no perfect number in given range\n"
          ]
        }
      ],
      "source": [
        "# Begin number 1 and 2\n",
        "from random import randint\n",
        "def is_perfect_number(n):\n",
        "  \"\"\"\n",
        "  n - int\n",
        "  \"\"\"\n",
        "  total = 0\n",
        "  for x in range(1, n):\n",
        "    if n % x == 0:\n",
        "      total += x\n",
        "\n",
        "  return total == n\n",
        "\n",
        "lower_input = int(input(\"Enter a lower bound for the range (inclusive)\\n\"))\n",
        "upper_input = int(input(\"Enter an upper bound for the range (exclusive)\\n\"))\n",
        "\n",
        "def get_perfect_numbers(upper_input, lower_input=2):\n",
        "  randoms = [randint(lower_input, upper_input) for _ in range(lower_input, upper_input)]\n",
        "  perfect_numbers = [i for i in randoms if is_perfect_number(i)]\n",
        "\n",
        "  if len(perfect_numbers) > 0:\n",
        "    return perfect_numbers\n",
        "\n",
        "  return \"There is no perfect number in given range\"\n",
        "\n",
        "perf_nums = get_perfect_numbers(upper_input, lower_input)\n",
        "perf_nums_without_lower = get_perfect_numbers(upper_input)\n",
        "print(f'with both inputs {perf_nums}')\n",
        "print(f'without lower {perf_nums_without_lower}')"
      ]
    },
    {
      "cell_type": "code",
      "source": [
        "# begin number 3\n",
        "def iterate_fact(num):\n",
        "  factorial = 1\n",
        "  for x in range(num, 1, -1):\n",
        "    factorial *= x\n",
        "  print(factorial)\n",
        "\n",
        "def recursive_fact(num):\n",
        "  if (num == 1):\n",
        "    return 1\n",
        "  return recursive_fact(num - 1) * num\n",
        "\n",
        "print(f'Recursive factorial {recursive_fact(4)}')\n",
        "iterate_fact(3)"
      ],
      "metadata": {
        "colab": {
          "base_uri": "https://localhost:8080/",
          "height": 0
        },
        "id": "o2oWYzL8cSUr",
        "outputId": "e6c4f673-2f0e-4f59-cfea-815c36aa2dec"
      },
      "execution_count": 9,
      "outputs": [
        {
          "output_type": "stream",
          "name": "stdout",
          "text": [
            "Recursive factorial 24\n",
            "6\n"
          ]
        }
      ]
    },
    {
      "cell_type": "code",
      "source": [
        "# begin number 4\n",
        "l_bound = int(input(\"enter lower bound\\n\"))\n",
        "u_bound = int(input(\"enter upper bound\\n\"))\n",
        "\n",
        "def common_elements(l_bound, u_bound):\n",
        "  randoms = [randint(l_bound, u_bound) for _ in range(l_bound, u_bound)]\n",
        "  randoms_2 = [randint(l_bound, u_bound) for _ in range(l_bound, u_bound)]\n",
        "  commons = [x for x in randoms if x in randoms_2]\n",
        "\n",
        "  print(randoms)\n",
        "  print(randoms_2)\n",
        "  print(commons)\n",
        "\n",
        "common_elements(l_bound, u_bound)"
      ],
      "metadata": {
        "colab": {
          "base_uri": "https://localhost:8080/"
        },
        "id": "6fNBlBKOcSe7",
        "outputId": "27ba73c5-744e-470e-8b38-db7b0bf33423"
      },
      "execution_count": 38,
      "outputs": [
        {
          "output_type": "stream",
          "name": "stdout",
          "text": [
            "enter lower bound\n",
            "2\n",
            "enter upper bound\n",
            "10\n",
            "[3, 4, 2, 7, 8, 8, 5, 5]\n",
            "[4, 7, 5, 3, 3, 7, 5, 3]\n",
            "[3, 4, 7, 5, 5]\n"
          ]
        }
      ]
    },
    {
      "cell_type": "code",
      "source": [
        "# Begin number 5\n",
        "low_bound = int(input(\"enter lower bound\\n\"))\n",
        "up_bound = int(input(\"enter upper bound\\n\"))\n",
        "find_input = int(input(\"enter value to find\\n\"))\n",
        "\n",
        "def randoms(low_bound, up_bound, find_input):\n",
        "  rands = [randint(low_bound, up_bound) for _ in range(low_bound, up_bound)]\n",
        "  print(rands)\n",
        "  for idx, x in enumerate(rands):\n",
        "    if find_input == x:\n",
        "      return idx\n",
        "\n",
        "  return \"error not found\"\n",
        "\n",
        "print(randoms(low_bound, up_bound, find_input))"
      ],
      "metadata": {
        "colab": {
          "base_uri": "https://localhost:8080/"
        },
        "id": "Y2O5vNPDcSpa",
        "outputId": "c8282e11-ae06-4fec-a408-cda60fba6286"
      },
      "execution_count": 45,
      "outputs": [
        {
          "output_type": "stream",
          "name": "stdout",
          "text": [
            "enter lower bound\n",
            "2\n",
            "enter upper bound\n",
            "6\n",
            "enter value to find\n",
            "5\n",
            "[4, 3, 2, 2]\n",
            "error not found\n"
          ]
        }
      ]
    },
    {
      "cell_type": "code",
      "source": [
        "# begin number 6\n",
        "low_b = int(input(\"enter lower bound\\n\"))\n",
        "up_b = int(input(\"enter upper bound\\n\"))\n",
        "\n",
        "rands = [randint(low_b, up_b) for _ in range(low_b, up_b)]\n",
        "print(rands)\n",
        "odds = [x for x in rands if x % 2 != 0]\n",
        "print(odds)\n",
        "\n"
      ],
      "metadata": {
        "colab": {
          "base_uri": "https://localhost:8080/"
        },
        "id": "V4kWFGIhcT1K",
        "outputId": "72fe413f-8008-410a-dc9d-a6210b2f5d32"
      },
      "execution_count": 48,
      "outputs": [
        {
          "output_type": "stream",
          "name": "stdout",
          "text": [
            "enter lower bound\n",
            "3\n",
            "enter upper bound\n",
            "8\n",
            "[4, 6, 4, 3, 3]\n",
            "[3, 3]\n"
          ]
        }
      ]
    },
    {
      "cell_type": "code",
      "source": [
        "# begin number 7\n",
        "numbers = [x for x in range(1, 1000) if x % 8 == 0]\n",
        "print(numbers)"
      ],
      "metadata": {
        "colab": {
          "base_uri": "https://localhost:8080/",
          "height": 0
        },
        "id": "-P7UyKxlcUAS",
        "outputId": "04e2d600-2f5d-471e-b0cb-04f5ca6549c2"
      },
      "execution_count": 2,
      "outputs": [
        {
          "output_type": "stream",
          "name": "stdout",
          "text": [
            "[8, 16, 24, 32, 40, 48, 56, 64, 72, 80, 88, 96, 104, 112, 120, 128, 136, 144, 152, 160, 168, 176, 184, 192, 200, 208, 216, 224, 232, 240, 248, 256, 264, 272, 280, 288, 296, 304, 312, 320, 328, 336, 344, 352, 360, 368, 376, 384, 392, 400, 408, 416, 424, 432, 440, 448, 456, 464, 472, 480, 488, 496, 504, 512, 520, 528, 536, 544, 552, 560, 568, 576, 584, 592, 600, 608, 616, 624, 632, 640, 648, 656, 664, 672, 680, 688, 696, 704, 712, 720, 728, 736, 744, 752, 760, 768, 776, 784, 792, 800, 808, 816, 824, 832, 840, 848, 856, 864, 872, 880, 888, 896, 904, 912, 920, 928, 936, 944, 952, 960, 968, 976, 984, 992]\n"
          ]
        }
      ]
    },
    {
      "cell_type": "code",
      "source": [
        "# begin number 8\n",
        "range_comp = [x for x in range(1, 100)]\n",
        "divisors = [x for x in range(2, 10)]\n",
        "nested_comp = [x for x in range(1, 100) for y in range(2, 10) if x % y == 0]\n",
        "print(nested_comp)"
      ],
      "metadata": {
        "colab": {
          "base_uri": "https://localhost:8080/"
        },
        "id": "v-wa0wG_cUJ-",
        "outputId": "4ea32d52-1320-4e60-f869-21332daf2a42"
      },
      "execution_count": 52,
      "outputs": [
        {
          "output_type": "stream",
          "name": "stdout",
          "text": [
            "[2, 3, 4, 4, 5, 6, 6, 6, 7, 8, 8, 8, 9, 9, 10, 10, 12, 12, 12, 12, 14, 14, 15, 15, 16, 16, 16, 18, 18, 18, 18, 20, 20, 20, 21, 21, 22, 24, 24, 24, 24, 24, 25, 26, 27, 27, 28, 28, 28, 30, 30, 30, 30, 32, 32, 32, 33, 34, 35, 35, 36, 36, 36, 36, 36, 38, 39, 40, 40, 40, 40, 42, 42, 42, 42, 44, 44, 45, 45, 45, 46, 48, 48, 48, 48, 48, 49, 50, 50, 51, 52, 52, 54, 54, 54, 54, 55, 56, 56, 56, 56, 57, 58, 60, 60, 60, 60, 60, 62, 63, 63, 63, 64, 64, 64, 65, 66, 66, 66, 68, 68, 69, 70, 70, 70, 72, 72, 72, 72, 72, 72, 74, 75, 75, 76, 76, 77, 78, 78, 78, 80, 80, 80, 80, 81, 81, 82, 84, 84, 84, 84, 84, 85, 86, 87, 88, 88, 88, 90, 90, 90, 90, 90, 91, 92, 92, 93, 94, 95, 96, 96, 96, 96, 96, 98, 98, 99, 99]\n"
          ]
        }
      ]
    }
  ]
}