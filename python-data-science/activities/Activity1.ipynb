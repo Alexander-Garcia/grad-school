{
  "nbformat": 4,
  "nbformat_minor": 0,
  "metadata": {
    "colab": {
      "provenance": []
    },
    "kernelspec": {
      "name": "python3",
      "display_name": "Python 3"
    },
    "language_info": {
      "name": "python"
    }
  },
  "cells": [
    {
      "cell_type": "markdown",
      "source": [
        "# Write a program to accept a number from a user\n",
        "  - Calculate sum of all numbers from 1 to a given number"
      ],
      "metadata": {
        "id": "DaNp6BTYZ_00"
      }
    },
    {
      "cell_type": "code",
      "execution_count": 19,
      "metadata": {
        "colab": {
          "base_uri": "https://localhost:8080/"
        },
        "id": "sX4EnipqX-Di",
        "outputId": "b105cd8c-2fd4-4a1c-90f4-755e613d1da1"
      },
      "outputs": [
        {
          "output_type": "stream",
          "name": "stdout",
          "text": [
            "Enter a number\n",
            "5\n",
            "total is 15\n"
          ]
        }
      ],
      "source": [
        "number1 = int(input(\"Enter a number\\n\"))\n",
        "total = 0\n",
        "for number in range(1, number1):\n",
        "  total += number\n",
        "print(f\"total is {total}\")"
      ]
    },
    {
      "cell_type": "markdown",
      "source": [
        "# display only the numbers from a list that satisfy following conditions\n",
        "  1. Number must be divisble by 5\n",
        "  2. if num > 150, skip it\n",
        "  3. if num is > 500 then break out"
      ],
      "metadata": {
        "id": "qsa3GsMkaLWn"
      }
    },
    {
      "cell_type": "code",
      "source": [
        "number_list = [5, 4, 151, 20, 300, 500, 505]\n",
        "for num in number_list:\n",
        "  if (num > 500):\n",
        "    break\n",
        "  elif (num > 150):\n",
        "    continue\n",
        "  elif (num % 5 == 0):\n",
        "    print(num)\n",
        ""
      ],
      "metadata": {
        "colab": {
          "base_uri": "https://localhost:8080/"
        },
        "id": "MP3peOsUYmmz",
        "outputId": "87dd5433-bfe4-43b8-f6bf-9bc5874c06d5"
      },
      "execution_count": 41,
      "outputs": [
        {
          "output_type": "stream",
          "name": "stdout",
          "text": [
            "5\n",
            "20\n"
          ]
        }
      ]
    },
    {
      "cell_type": "markdown",
      "source": [
        "# Write a program to print the following start pattern using the for loop"
      ],
      "metadata": {
        "id": "69ZrT27katDa"
      }
    },
    {
      "cell_type": "code",
      "source": [
        "for i in range(1, 10):\n",
        "  if i <= 5:\n",
        "    amount_to_print = i\n",
        "  else:\n",
        "    modulo = i % 10\n",
        "    amount_to_print = 10 - modulo\n",
        "\n",
        "  test = \"* \" * amount_to_print\n",
        "  print(test)\n"
      ],
      "metadata": {
        "colab": {
          "base_uri": "https://localhost:8080/"
        },
        "id": "3A9XOlRwZ2Y6",
        "outputId": "cab9d7a3-b3f2-4be0-b51a-dac8efc66b35"
      },
      "execution_count": 35,
      "outputs": [
        {
          "output_type": "stream",
          "name": "stdout",
          "text": [
            "* \n",
            "* * \n",
            "* * * \n",
            "* * * * \n",
            "* * * * * \n",
            "* * * * \n",
            "* * * \n",
            "* * \n",
            "* \n"
          ]
        }
      ]
    },
    {
      "cell_type": "markdown",
      "source": [
        "# Write a program to create a function that takes two arugments, name and age, then print their value"
      ],
      "metadata": {
        "id": "swlAaaeZfA4o"
      }
    },
    {
      "cell_type": "code",
      "source": [
        "def build_person(name=\"john\", age=32):\n",
        "  print(f\"hello {name} you are {age} years old!\")\n",
        "\n",
        "build_person(name=\"Dude\", age=33)"
      ],
      "metadata": {
        "colab": {
          "base_uri": "https://localhost:8080/"
        },
        "id": "27Wi_pD0fI6l",
        "outputId": "f3e06c8f-b9fe-402c-9255-90534a96cd24"
      },
      "execution_count": 24,
      "outputs": [
        {
          "output_type": "stream",
          "name": "stdout",
          "text": [
            "hello Dude you are 33 years old!\n"
          ]
        }
      ]
    },
    {
      "cell_type": "markdown",
      "source": [
        "# Write program to create function func1() to accept variables length of arguments and print their value"
      ],
      "metadata": {
        "id": "a6gkvC85fkHw"
      }
    },
    {
      "cell_type": "code",
      "source": [
        "def any_args(*args):\n",
        "  for arg in args:\n",
        "    print(arg)\n",
        "\n",
        "any_args(2, 3, 5)\n",
        "any_args(1, 5, 6, 7, 8, 9, 10)"
      ],
      "metadata": {
        "colab": {
          "base_uri": "https://localhost:8080/"
        },
        "id": "qPsEANEpfrCn",
        "outputId": "d34fbf97-ecf3-4fdc-bcbe-427999693881"
      },
      "execution_count": 26,
      "outputs": [
        {
          "output_type": "stream",
          "name": "stdout",
          "text": [
            "2\n",
            "3\n",
            "5\n",
            "1\n",
            "5\n",
            "6\n",
            "7\n",
            "8\n",
            "9\n",
            "10\n"
          ]
        }
      ]
    },
    {
      "cell_type": "markdown",
      "source": [
        "# Write a program to createa function calculation() such that it can accept two variables and calculate addition and subtraction"
      ],
      "metadata": {
        "id": "gFhY9pGaf6db"
      }
    },
    {
      "cell_type": "code",
      "source": [
        "def calculation(num1, num2):\n",
        "  addn = num1 + num2\n",
        "  subtraction = num1 - num2\n",
        "  return (addn, subtraction)\n",
        "\n",
        "(addn, subtraction) = calculation(4, 2)\n",
        "print(addn, subtraction)"
      ],
      "metadata": {
        "colab": {
          "base_uri": "https://localhost:8080/"
        },
        "id": "RLCC2uWdgDQK",
        "outputId": "01af2742-79e6-46c1-82ad-1e2399747249"
      },
      "execution_count": 28,
      "outputs": [
        {
          "output_type": "stream",
          "name": "stdout",
          "text": [
            "6 2\n"
          ]
        }
      ]
    },
    {
      "cell_type": "markdown",
      "source": [
        "# Create function to return a python list of all even numbers between a range given by user"
      ],
      "metadata": {
        "id": "PtzDuvjwgZKr"
      }
    },
    {
      "cell_type": "code",
      "source": [
        "lower_bound = int(input(\"Enter a start for the range\\n\"))\n",
        "upper_bound = int(input(\"Enter an ending (exclusive) for the range\\n\"))\n",
        "\n",
        "def create_a_list(l_bound, u_bound):\n",
        "  list = []\n",
        "  for i in range(l_bound, u_bound):\n",
        "    if i % 2 == 0:\n",
        "      list.append(i)\n",
        "  return list\n",
        "\n",
        "create_a_list(lower_bound, upper_bound)"
      ],
      "metadata": {
        "colab": {
          "base_uri": "https://localhost:8080/"
        },
        "id": "94jw8CM7gX_V",
        "outputId": "5f1c9c84-cd6f-4099-bf35-24b6683dfe6b"
      },
      "execution_count": 43,
      "outputs": [
        {
          "name": "stdout",
          "output_type": "stream",
          "text": [
            "Enter a start for the range\n",
            "1\n",
            "Enter an ending (exclusive) for the range\n",
            "4\n"
          ]
        },
        {
          "output_type": "execute_result",
          "data": {
            "text/plain": [
              "[2]"
            ]
          },
          "metadata": {},
          "execution_count": 43
        }
      ]
    }
  ]
}