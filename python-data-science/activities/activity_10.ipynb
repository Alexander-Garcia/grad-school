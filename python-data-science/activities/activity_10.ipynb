{
  "nbformat": 4,
  "nbformat_minor": 0,
  "metadata": {
    "colab": {
      "provenance": []
    },
    "kernelspec": {
      "name": "python3",
      "display_name": "Python 3"
    },
    "language_info": {
      "name": "python"
    }
  },
  "cells": [
    {
      "cell_type": "code",
      "execution_count": 84,
      "metadata": {
        "id": "dXaKPfV0Ola_"
      },
      "outputs": [],
      "source": [
        "from datetime import date\n",
        "\n",
        "class Person:\n",
        "  def __init__(self, name, country, date_of_birth):\n",
        "    self.name = name\n",
        "    self.country = country\n",
        "    self.date_of_birth = date_of_birth\n",
        "\n",
        "  def get_country(self):\n",
        "    return self.country\n",
        "\n",
        "  def get_name(self):\n",
        "    return self.name\n",
        "\n",
        "  def get_date_of_birth(self):\n",
        "    return self.date_of_birth\n",
        "\n",
        "  def set_name(self, name):\n",
        "    self.name = name\n",
        "\n",
        "  def set_country(self, country):\n",
        "    self.country = country\n",
        "\n",
        "  def set_date_of_birth(self, date_of_birth):\n",
        "    self.date_of_birth = date_of_birth\n",
        "\n",
        "  def calculate_age(self):\n",
        "    current_year = date.today().year\n",
        "    birth_year = int(self.date_of_birth.split('-')[0])\n",
        "    current_age = current_year - birth_year\n",
        "    return current_age"
      ]
    },
    {
      "cell_type": "code",
      "source": [
        "from os import name\n",
        "# get user input\n",
        "people = []\n",
        "for i in range(4):\n",
        "  user_input = input(\"Enter the information for 4 people separated by a space\\n\")\n",
        "  name, country, date_of_birth = user_input.split()\n",
        "  people.append(Person(name, country, date_of_birth))\n",
        "\n",
        "\n",
        "print(people[0])"
      ],
      "metadata": {
        "colab": {
          "base_uri": "https://localhost:8080/"
        },
        "id": "nYJQVLyrPK_m",
        "outputId": "38e33a70-dd8a-462e-9e56-d2ebd7b02bbe"
      },
      "execution_count": 86,
      "outputs": [
        {
          "output_type": "stream",
          "name": "stdout",
          "text": [
            "Enter the information for 4 people separated by a space\n",
            "jimi us 1987\n",
            "Enter the information for 4 people separated by a space\n",
            "john england 1450\n",
            "Enter the information for 4 people separated by a space\n",
            "tim austria 1000\n",
            "Enter the information for 4 people separated by a space\n",
            "albert germany 1890\n",
            "<__main__.Person object at 0x7e7b057f21d0>\n"
          ]
        }
      ]
    },
    {
      "cell_type": "code",
      "source": [
        "for i in range(4):\n",
        "  print(f\"Person {i+1}'s name: {people[i].get_name()}\")\n",
        "  print(f\"Person {i+1}'s country: {people[i].get_country()}\")\n",
        "  print(f\"Person {i+1}'s DOB: {people[i].get_date_of_birth()}\")\n",
        "  print(f\"Person {i+1}'s age: {people[i].calculate_age()}\")\n",
        "  print()"
      ],
      "metadata": {
        "colab": {
          "base_uri": "https://localhost:8080/"
        },
        "id": "nditl9TXUzcm",
        "outputId": "ef7c7d9c-93fb-4005-de9c-f3a6d1ca38e9"
      },
      "execution_count": 87,
      "outputs": [
        {
          "output_type": "stream",
          "name": "stdout",
          "text": [
            "Person 1's name: jimi\n",
            "Person 1's country: us\n",
            "Person 1's DOB: 1987\n",
            "Person 1's age: 37\n",
            "\n",
            "Person 2's name: john\n",
            "Person 2's country: england\n",
            "Person 2's DOB: 1450\n",
            "Person 2's age: 574\n",
            "\n",
            "Person 3's name: tim\n",
            "Person 3's country: austria\n",
            "Person 3's DOB: 1000\n",
            "Person 3's age: 1024\n",
            "\n",
            "Person 4's name: albert\n",
            "Person 4's country: germany\n",
            "Person 4's DOB: 1890\n",
            "Person 4's age: 134\n",
            "\n"
          ]
        }
      ]
    }
  ]
}