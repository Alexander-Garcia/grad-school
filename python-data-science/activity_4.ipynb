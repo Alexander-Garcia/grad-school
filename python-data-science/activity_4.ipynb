{
  "nbformat": 4,
  "nbformat_minor": 0,
  "metadata": {
    "colab": {
      "provenance": []
    },
    "kernelspec": {
      "name": "python3",
      "display_name": "Python 3"
    },
    "language_info": {
      "name": "python"
    }
  },
  "cells": [
    {
      "cell_type": "code",
      "execution_count": 2,
      "metadata": {
        "colab": {
          "base_uri": "https://localhost:8080/",
          "height": 0
        },
        "id": "jysEUTdoekDO",
        "outputId": "b1136358-c93b-4da3-94ce-8e12dfa5c824"
      },
      "outputs": [
        {
          "output_type": "execute_result",
          "data": {
            "text/plain": [
              "Generator(PCG64) at 0x7921C0D5E180"
            ]
          },
          "metadata": {},
          "execution_count": 2
        }
      ],
      "source": [
        "import numpy as np\n",
        "import pandas as pd\n",
        "\n",
        "generator = np.random.default_rng(123)\n",
        "generator"
      ]
    },
    {
      "cell_type": "code",
      "source": [
        "# Q1\n",
        "nancy_start_weight = float(input(\"Enter your weight nancy\\n\"))\n",
        "nancy_weights = np.arange(start=nancy_start_weight, stop=90, step=-2.34)\n",
        "# type should be numpy.ndarray\n",
        "print(type(nancy_weights))\n",
        "print(nancy_weights)\n"
      ],
      "metadata": {
        "colab": {
          "base_uri": "https://localhost:8080/"
        },
        "id": "Wnf8geyuguT5",
        "outputId": "49364d0f-3fc0-474a-84cb-e08c19aecfe9"
      },
      "execution_count": 19,
      "outputs": [
        {
          "output_type": "stream",
          "name": "stdout",
          "text": [
            "Enter your weight nancy\n",
            "180\n",
            "<class 'numpy.ndarray'>\n",
            "[180.   177.66 175.32 172.98 170.64 168.3  165.96 163.62 161.28 158.94\n",
            " 156.6  154.26 151.92 149.58 147.24 144.9  142.56 140.22 137.88 135.54\n",
            " 133.2  130.86 128.52 126.18 123.84 121.5  119.16 116.82 114.48 112.14\n",
            " 109.8  107.46 105.12 102.78 100.44]\n"
          ]
        }
      ]
    },
    {
      "cell_type": "code",
      "source": [
        "# Q2\n",
        "plots_of_gold = generator.integers(low=2, high=20, size=(7,7))\n",
        "print(plots_of_gold)\n",
        "locations = generator.integers(low=0, high=6, size=(5,2))\n",
        "print(plots_of_gold[locations[:, 0], locations[:, 1]])"
      ],
      "metadata": {
        "colab": {
          "base_uri": "https://localhost:8080/"
        },
        "id": "gZGlb6kZjUuj",
        "outputId": "14b77963-4234-4dd6-af6f-23d4c8292fa6"
      },
      "execution_count": 44,
      "outputs": [
        {
          "output_type": "stream",
          "name": "stdout",
          "text": [
            "[[15 16  4 11  6  6  4]\n",
            " [10 19 13  2  6  7  5]\n",
            " [ 5 19 13  5 11  8  7]\n",
            " [ 9 18 17 11  7 17  5]\n",
            " [ 2  4 11 15  6 12  7]\n",
            " [ 3 13 10  8 19 19 18]\n",
            " [ 5 12  9  6 11 12 16]]\n",
            "[11  3 16 19  5]\n"
          ]
        }
      ]
    },
    {
      "cell_type": "code",
      "source": [
        "# Q3\n",
        "ratings = generator.random(size=(10,2))\n",
        "print(ratings)\n",
        "ratings[[1,2,7,9], [0,0,0,0]] = np.nan\n",
        "x = np.where(np.isnan(ratings[:, 0]), ratings[:, 1], ratings[:, 0])\n",
        "print(x)\n",
        "\n",
        "result = np.insert(arr=ratings, values=x, axis=1, obj=1)"
      ],
      "metadata": {
        "colab": {
          "base_uri": "https://localhost:8080/"
        },
        "id": "aHs3Va_NpTIi",
        "outputId": "d6aa77b0-ff9f-4f3f-d907-f16f42af5153"
      },
      "execution_count": 48,
      "outputs": [
        {
          "output_type": "stream",
          "name": "stdout",
          "text": [
            "[[0.50270794 0.85702214]\n",
            " [0.91597162 0.08657005]\n",
            " [0.4290827  0.29453693]\n",
            " [0.78784907 0.3458479 ]\n",
            " [0.4851056  0.70657673]\n",
            " [0.63521927 0.74343594]\n",
            " [0.43092017 0.54132317]\n",
            " [0.27214407 0.77709508]\n",
            " [0.86629005 0.30212949]\n",
            " [0.49775748 0.10460545]]\n",
            "[0.50270794 0.08657005 0.29453693 0.78784907 0.4851056  0.63521927\n",
            " 0.43092017 0.77709508 0.86629005 0.10460545]\n"
          ]
        }
      ]
    },
    {
      "cell_type": "code",
      "source": [
        "# Q5\n",
        "bees = pd.Series([True, True, False, np.nan, np.nan, False, True, np.nan])\n",
        "knees = pd.Series(np.random.randint(low=0, high=10, size=8))\n",
        "knees.loc[pd.isna(bees).to_numpy()] *= 2\n",
        "print(knees)"
      ],
      "metadata": {
        "colab": {
          "base_uri": "https://localhost:8080/"
        },
        "id": "lVW-frf4waRf",
        "outputId": "85578223-5333-4758-bec5-bcb34157effd"
      },
      "execution_count": 64,
      "outputs": [
        {
          "output_type": "stream",
          "name": "stdout",
          "text": [
            "0     6\n",
            "1     9\n",
            "2     4\n",
            "3     6\n",
            "4     4\n",
            "5     0\n",
            "6     3\n",
            "7    14\n",
            "dtype: int64\n"
          ]
        }
      ]
    }
  ]
}