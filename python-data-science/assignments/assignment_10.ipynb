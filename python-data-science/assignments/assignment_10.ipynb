{
  "nbformat": 4,
  "nbformat_minor": 0,
  "metadata": {
    "colab": {
      "provenance": []
    },
    "kernelspec": {
      "name": "python3",
      "display_name": "Python 3"
    },
    "language_info": {
      "name": "python"
    }
  },
  "cells": [
    {
      "cell_type": "markdown",
      "source": [
        "# Number 1\n",
        "- Differentiate between supervised and unsupervised machine learning algorithms with examples. [10 points]"
      ],
      "metadata": {
        "id": "XIFa59PvEzts"
      }
    },
    {
      "cell_type": "code",
      "execution_count": null,
      "metadata": {
        "id": "QGJGfRQBCwVt"
      },
      "outputs": [],
      "source": [
        "\n",
        "'''\n",
        "Supervised machine learning uses labeled data to learn from and this labeled data is essentially the supervision.\n",
        "The developer passes the data with a known target variable. Algorithms for this are things such as Logistic regression, K-nearest neighbor, and Linear regression.\n",
        "Unsupervised machine learning is passing unlabled data to the algorithm and letting it learn the patterns.\n",
        "Algorithms for this are k-means clustering, apriori algorithm, and hierarchical clustering.\n",
        "Each type has an area / field that it works well on.\n",
        "https://www.ibm.com/topics/unsupervised-learning\n",
        "'''"
      ]
    },
    {
      "cell_type": "markdown",
      "source": [
        "# Number 2\n",
        "- What is inheritance? Describe with example. [10 points]"
      ],
      "metadata": {
        "id": "FaD4Jm8zE3sw"
      }
    },
    {
      "cell_type": "code",
      "source": [
        "'''\n",
        "Inheritance is the concept of a child class inheriting attributes and methods from a parent class.\n",
        "It is one of the four pillars of OOP.\n",
        "'''\n",
        "class Parent:\n",
        "  def __init__(self, name):\n",
        "    self.name = name\n",
        "\n",
        "  def parent_method(self):\n",
        "    return f'hey i am a parent method, {self.name}'\n",
        "\n",
        "class Child(Parent):\n",
        "  def child_method(self):\n",
        "    return f'hey i am a child method, {self.name}'\n",
        "\n",
        "child_class = Child(name='dude')\n",
        "print(child_class.parent_method())\n",
        "print(child_class.child_method())"
      ],
      "metadata": {
        "colab": {
          "base_uri": "https://localhost:8080/"
        },
        "id": "efETl_TLE24Y",
        "outputId": "df28a09a-3f61-4a54-d567-32ce2e7fcaa2"
      },
      "execution_count": 4,
      "outputs": [
        {
          "output_type": "stream",
          "name": "stdout",
          "text": [
            "hey i am a parent method, dude\n",
            "hey i am a child method, dude\n"
          ]
        }
      ]
    },
    {
      "cell_type": "markdown",
      "source": [
        "# Number 3\n",
        "- What is encapsulation? Explain with an example. [10 points]"
      ],
      "metadata": {
        "id": "2RQZWnDRG4h1"
      }
    },
    {
      "cell_type": "code",
      "source": [
        "'''\n",
        "Encapsulation is another one of the four pillars of OOP\n",
        "It encapsulates or hides data within a class. Making some public or private\n",
        "Private means it is not exposed to the public\n",
        "'''\n",
        "# I got a pocket full of sunshine. Based on the song Pocket full of sunshine\n",
        "class Pocket:\n",
        "  def __init__(self, owner, sunshine):\n",
        "    self.owner = owner\n",
        "    self.__sunshine = sunshine\n",
        "\n",
        "  # encapsulation uses getters and setters\n",
        "  def get_sunshine(self):\n",
        "    return self.__sunshine\n",
        "\n",
        "  # setter\n",
        "  def set_sunshine(self, amount):\n",
        "    self.__balance = amount\n",
        "\n",
        "\n",
        "  def add_sunshine(self, amount):\n",
        "    self.__sunshine += amount\n",
        "\n",
        "pocket_full_of_sunshine = Pocket(\"Natasha Beddingfield\", 100)\n",
        "\n",
        "# add some sunshine\n",
        "pocket_full_of_sunshine.add_sunshine(200)\n",
        "print(pocket_full_of_sunshine.get_sunshine())"
      ],
      "metadata": {
        "colab": {
          "base_uri": "https://localhost:8080/"
        },
        "id": "Ko_dQ4oFG-SU",
        "outputId": "f2434225-79ae-423d-f576-cb07e4bab883"
      },
      "execution_count": 5,
      "outputs": [
        {
          "output_type": "stream",
          "name": "stdout",
          "text": [
            "None\n",
            "300\n"
          ]
        }
      ]
    },
    {
      "cell_type": "markdown",
      "source": [
        "# Number 4\n",
        "- You can see an example where we created a book database in class. Similarly, please create an employee database in python. The database should contain three tables, personal_details (with columns: employee_id, name, gender, age, physical_address, email_address), salary_details (with columns: employee_id, total_compensation), job_details (with columns: employee_id, job_title, manager_id).\n",
        "- After creating tables, perform the tasks below: [10 points]\n",
        "  - Insert 5 rows in each table.\n",
        "  - Imagine two employees got promoted with 5% and 10% base salary raise respectively.\n",
        "    - Update the information of those two employees in your database.\n",
        "  - Imagine two employees left the company. Remove their details from your database."
      ],
      "metadata": {
        "id": "KHcXut-ASVlG"
      }
    },
    {
      "cell_type": "code",
      "source": [
        "# import the db\n",
        "import sqlite3"
      ],
      "metadata": {
        "id": "j1gCYfrYMGxX"
      },
      "execution_count": 6,
      "outputs": []
    },
    {
      "cell_type": "code",
      "source": [
        "connection = sqlite3.connect('employee.db')"
      ],
      "metadata": {
        "id": "r5FeJim9Sqmc"
      },
      "execution_count": 7,
      "outputs": []
    },
    {
      "cell_type": "code",
      "source": [
        "# create the driver to execute commands on\n",
        "driver = connection.cursor()"
      ],
      "metadata": {
        "id": "twWhImRUSzYW"
      },
      "execution_count": 8,
      "outputs": []
    },
    {
      "cell_type": "markdown",
      "source": [
        "## create tables"
      ],
      "metadata": {
        "id": "7jX9pq_KYxMb"
      }
    },
    {
      "cell_type": "code",
      "source": [
        "# create the tables\n",
        "driver.execute(\"\"\"\n",
        "CREATE TABLE IF NOT EXISTS personal_details (\n",
        "    id INTEGER PRIMARY KEY AUTOINCREMENT,\n",
        "    employee_id INTEGER NOT NULL,\n",
        "    name TEXT NOT NULL,\n",
        "    gender TEXT NOT NULL,\n",
        "    age INTEGER NOT NULL,\n",
        "    physical_address TEXT NOT NULL,\n",
        "    email_address TEXT NOT NULL\n",
        ")\n",
        "\"\"\")\n",
        "\n",
        "driver.execute(\"\"\"\n",
        "CREATE TABLE IF NOT EXISTS salary_details (\n",
        "    id INTEGER PRIMARY KEY AUTOINCREMENT,\n",
        "    employee_id INTEGER NOT NULL,\n",
        "    total_compensation INTEGER NOT NULL\n",
        ")\n",
        "\"\"\")\n",
        "\n",
        "\n",
        "driver.execute(\"\"\"\n",
        "CREATE TABLE IF NOT EXISTS job_details (\n",
        "    id INTEGER PRIMARY KEY AUTOINCREMENT,\n",
        "    employee_id INTEGER NOT NULL,\n",
        "    job_title TEXT NOT NULL,\n",
        "    manager_id INTEGER NOT NULL\n",
        ")\n",
        "\"\"\")"
      ],
      "metadata": {
        "colab": {
          "base_uri": "https://localhost:8080/"
        },
        "id": "h1shUndOTE91",
        "outputId": "3f76ce36-2de8-4e28-d11b-7b61de7355ae"
      },
      "execution_count": 31,
      "outputs": [
        {
          "output_type": "execute_result",
          "data": {
            "text/plain": [
              "<sqlite3.Cursor at 0x7aad7092e8c0>"
            ]
          },
          "metadata": {},
          "execution_count": 31
        }
      ]
    },
    {
      "cell_type": "markdown",
      "source": [
        "## create data"
      ],
      "metadata": {
        "id": "nKuPrKYqY0s-"
      }
    },
    {
      "cell_type": "code",
      "source": [
        "employee_id = [1,2,3,4,5]\n",
        "name = ['jill', 'mary', 'joe', 'jimi', 'dude']\n",
        "gender = ['female', 'female', 'male', 'male', 'male']\n",
        "age = [10,11,12,13,14,15]\n",
        "street = ['123 stree', '234 lane', '345 blv', '456 ave', '567 way']\n",
        "email = ['blah@fake.com', 'derp@fake.com', 'dude@blah.com', 'why@blah.com', 'derk@gmail']\n",
        "total_comp = [1000, 2000, 3000, 4000, 5000]\n",
        "job_title = ['manager', 'peon', 'ceo', 'cfo', 'ai']\n",
        "manager_id = [5,6,7,8,9]\n",
        "personal = zip(employee_id, name, gender, age, street, email)\n",
        "salary = zip(employee_id, total_comp)\n",
        "job = zip(employee_id, job_title, manager_id)"
      ],
      "metadata": {
        "id": "_beYXsgFT_oq"
      },
      "execution_count": 18,
      "outputs": []
    },
    {
      "cell_type": "markdown",
      "source": [
        "## build array to perform exmany"
      ],
      "metadata": {
        "id": "GJIbDApvY2Vk"
      }
    },
    {
      "cell_type": "code",
      "source": [
        "personal_values = []\n",
        "salary_values = []\n",
        "job_values = []\n",
        "for i in personal:\n",
        "  personal_values.append(i)\n",
        "\n",
        "for i in salary:\n",
        "  salary_values.append(i)\n",
        "\n",
        "for i in job:\n",
        "  job_values.append(i)\n",
        "\n",
        "print(personal_values)\n",
        "print(salary_values)\n",
        "print(job_values)"
      ],
      "metadata": {
        "colab": {
          "base_uri": "https://localhost:8080/"
        },
        "id": "GeEdeDxdXECK",
        "outputId": "633c5813-04a9-4c67-d863-07e30e66a3a1"
      },
      "execution_count": 19,
      "outputs": [
        {
          "output_type": "stream",
          "name": "stdout",
          "text": [
            "[(1, 'jill', 'female', 10, '123 stree', 'blah@fake.com'), (2, 'mary', 'female', 11, '234 lane', 'derp@fake.com'), (3, 'joe', 'male', 12, '345 blv', 'dude@blah.com'), (4, 'jimi', 'male', 13, '456 ave', 'why@blah.com'), (5, 'dude', 'male', 14, '567 way', 'derk@gmail')]\n",
            "[(1, 1000), (2, 2000), (3, 3000), (4, 4000), (5, 5000)]\n",
            "[(1, 'manager', 5), (2, 'peon', 6), (3, 'ceo', 7), (4, 'cfo', 8), (5, 'ai', 9)]\n"
          ]
        }
      ]
    },
    {
      "cell_type": "markdown",
      "source": [
        "## build queries"
      ],
      "metadata": {
        "id": "WGXxF72oY6UR"
      }
    },
    {
      "cell_type": "code",
      "source": [
        "personal_query = \"\"\"\n",
        "INSERT INTO personal_details (employee_id, name, gender, age, physical_address, email_address)\n",
        "VALUES (?, ?, ?, ?, ?, ?)\n",
        "\"\"\"\n",
        "salary_query = \"\"\"\n",
        "INSERT INTO salary_details (employee_id, total_compensation)\n",
        "VALUES (?, ?)\n",
        "\"\"\"\n",
        "job_query = \"\"\"\n",
        "INSERT INTO job_details (employee_id, job_title, manager_id)\n",
        "VALUES (?, ?, ?)\n",
        "\"\"\""
      ],
      "metadata": {
        "id": "1HAmDWd5Yl-S"
      },
      "execution_count": 20,
      "outputs": []
    },
    {
      "cell_type": "code",
      "source": [
        "try:\n",
        "  driver.executemany(personal_query, personal_values)\n",
        "  driver.executemany(salary_query, salary_values)\n",
        "  driver.executemany(job_query, job_values)\n",
        "  connection.commit()\n",
        "\n",
        "except Exception as e:\n",
        "  print(e)"
      ],
      "metadata": {
        "id": "IE5TBSwjZDdC"
      },
      "execution_count": 32,
      "outputs": []
    },
    {
      "cell_type": "markdown",
      "source": [
        "## Update salary_details"
      ],
      "metadata": {
        "id": "3fxtZC_QdX7Y"
      }
    },
    {
      "cell_type": "code",
      "source": [
        "# Update empoloyees\n",
        "driver.execute(\"\"\"\n",
        "UPDATE salary_details\n",
        "SET total_compensation = total_compensation + (total_compensation * .05)\n",
        "WHERE employee_id IN (1, 2)\n",
        "\"\"\")\n",
        "\n",
        "connection.commit()\n",
        "\n",
        "driver.execute(\"SELECT * FROM salary_details WHERE employee_id = ?\", (1,))\n",
        "updated_record = driver.fetchone()\n",
        "print(\"Updated Record:\", updated_record)"
      ],
      "metadata": {
        "colab": {
          "base_uri": "https://localhost:8080/"
        },
        "id": "tv4B1mMfcMmF",
        "outputId": "75d92772-ec92-4453-b648-2defdcae7c80"
      },
      "execution_count": 34,
      "outputs": [
        {
          "output_type": "stream",
          "name": "stdout",
          "text": [
            "Updated Record: (1, 1, 1050)\n"
          ]
        }
      ]
    },
    {
      "cell_type": "code",
      "source": [
        "s_all = \"\"\"\n",
        "SELECT * from salary_details\n",
        "\"\"\"\n",
        "driver.execute(s_all)\n",
        "print(driver.fetchall())"
      ],
      "metadata": {
        "colab": {
          "base_uri": "https://localhost:8080/"
        },
        "id": "vwGRcb1Fb36w",
        "outputId": "5289a2e4-4ac9-4c70-dc90-e848df48772a"
      },
      "execution_count": 33,
      "outputs": [
        {
          "output_type": "stream",
          "name": "stdout",
          "text": [
            "[(1, 1, 1000), (2, 2, 2000), (3, 3, 3000), (4, 4, 4000), (5, 5, 5000), (6, 1, 1000), (7, 2, 2000), (8, 3, 3000), (9, 4, 4000), (10, 5, 5000), (11, 1, 1000), (12, 2, 2000), (13, 3, 3000), (14, 4, 4000), (15, 5, 5000), (16, 1, 1000), (17, 2, 2000), (18, 3, 3000), (19, 4, 4000), (20, 5, 5000)]\n"
          ]
        }
      ]
    },
    {
      "cell_type": "markdown",
      "source": [
        "# remove two employees from all tables\n"
      ],
      "metadata": {
        "id": "kW3-PE6rddkg"
      }
    },
    {
      "cell_type": "code",
      "source": [
        "driver.execute(\"\"\"\n",
        "DELETE FROM personal_details\n",
        "WHERE employee_id = ?\n",
        "\"\"\", (1,))\n",
        "\n",
        "driver.execute(\"\"\"\n",
        "DELETE FROM salary_details\n",
        "WHERE employee_id = ?\n",
        "\"\"\", (1,))\n",
        "\n",
        "driver.execute(\"\"\"\n",
        "DELETE FROM job_details\n",
        "WHERE employee_id = ?\n",
        "\"\"\", (1,))\n",
        "\n",
        "driver.execute(\"\"\"\n",
        "DELETE FROM personal_details\n",
        "WHERE employee_id = ?\n",
        "\"\"\", (2,))\n",
        "\n",
        "driver.execute(\"\"\"\n",
        "DELETE FROM salary_details\n",
        "WHERE employee_id = ?\n",
        "\"\"\", (2,))\n",
        "\n",
        "driver.execute(\"\"\"\n",
        "DELETE FROM job_details\n",
        "WHERE employee_id = ?\n",
        "\"\"\", (2,))\n",
        "\n",
        "\n",
        "connection.commit()\n",
        "\n",
        "driver.execute(\"SELECT * FROM salary_details WHERE employee_id = ?\", (1,))\n",
        "deleted_record = driver.fetchone()\n",
        "if deleted_record is None:\n",
        "  print(\"Record deleted successfully.\")\n",
        "else:\n",
        "  print(\"Record not found.\")"
      ],
      "metadata": {
        "colab": {
          "base_uri": "https://localhost:8080/"
        },
        "id": "32uhJkYudi10",
        "outputId": "cbcbd23b-0bb7-43f8-aa3c-632aefd9a601"
      },
      "execution_count": 37,
      "outputs": [
        {
          "output_type": "stream",
          "name": "stdout",
          "text": [
            "Record deleted successfully.\n"
          ]
        }
      ]
    },
    {
      "cell_type": "markdown",
      "source": [
        "## Queries to check things and fix my spelling error"
      ],
      "metadata": {
        "id": "J_a8Fa-Abhnl"
      }
    },
    {
      "cell_type": "code",
      "source": [
        "sql_query = \"\"\"SELECT name FROM sqlite_master\n",
        "    WHERE type='table';\"\"\"\n",
        "\n",
        "# executing our sql query\n",
        "driver.execute(sql_query)\n",
        "# printing all tables list\n",
        "print(driver.fetchall())"
      ],
      "metadata": {
        "colab": {
          "base_uri": "https://localhost:8080/"
        },
        "id": "K-JAWuBfbnFu",
        "outputId": "b80c0781-5a9c-40ee-f148-7ac083a83471"
      },
      "execution_count": 30,
      "outputs": [
        {
          "output_type": "stream",
          "name": "stdout",
          "text": [
            "[('personal_details',), ('sqlite_sequence',), ('salary_details',)]\n"
          ]
        }
      ]
    },
    {
      "cell_type": "code",
      "source": [
        "sql_query = \"\"\"SELECT name FROM sqlite_master\n",
        "    WHERE type='table';\"\"\"\n",
        "\n",
        "# executing our sql query\n",
        "driver.execute(sql_query)\n",
        "print(\"List of tables\\n\")\n",
        "q = \"\"\"SELECT sql FROM sqlite_master WHERE name='job_details'\"\"\"\n",
        "# printing all tables list\n",
        "driver.execute(q)\n",
        "print(driver.fetchall())\n",
        "dt = \"\"\"\n",
        "drop table if exists job_details\n",
        "\"\"\"\n",
        "# driver.execute(dt)"
      ],
      "metadata": {
        "colab": {
          "base_uri": "https://localhost:8080/"
        },
        "id": "VQPRUwIBaulg",
        "outputId": "1ce9fbdf-9aef-409a-d2e0-83a8e8d901f7"
      },
      "execution_count": 28,
      "outputs": [
        {
          "output_type": "stream",
          "name": "stdout",
          "text": [
            "List of tables\n",
            "\n",
            "[('CREATE TABLE job_details (\\n    id INTEGER PRIMARY KEY AUTOINCREMENT,\\n    eployee_id INTEGER NOT NULL,\\n    job_title TEXT NOT NULL,\\n    manager_id INTEGER NOT NULL\\n)',)]\n"
          ]
        },
        {
          "output_type": "execute_result",
          "data": {
            "text/plain": [
              "<sqlite3.Cursor at 0x7aad7092e8c0>"
            ]
          },
          "metadata": {},
          "execution_count": 28
        }
      ]
    },
    {
      "cell_type": "markdown",
      "source": [
        "# Close connection"
      ],
      "metadata": {
        "id": "2jzDOC2Mew-T"
      }
    },
    {
      "cell_type": "code",
      "source": [
        "connection.close()"
      ],
      "metadata": {
        "id": "sQEF_jy5ez6-"
      },
      "execution_count": 38,
      "outputs": []
    }
  ]
}